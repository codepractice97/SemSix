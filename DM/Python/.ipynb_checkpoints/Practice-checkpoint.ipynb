{
 "cells": [
  {
   "cell_type": "code",
   "execution_count": 9,
   "metadata": {},
   "outputs": [
    {
     "name": "stdout",
     "output_type": "stream",
     "text": [
      "Enter string to count characters mukul\n",
      "{'u': 2, 'l': 1, 'k': 1, 'm': 1}\n",
      "Number of ocurrences of 'k': 1\n",
      "Number of ocurrences of 'l': 1\n",
      "Number of ocurrences of 'm': 1\n",
      "Number of ocurrences of 'u': 2\n"
     ]
    }
   ],
   "source": [
    "mystr = input('Enter string to count characters ')\n",
    "s = set(mystr)\n",
    "mydict = {}\n",
    "for i in s:\n",
    "    mydict[i]=mystr.count(i)\n",
    "print(mydict)\n",
    "for i in sorted(mydict.keys()):\n",
    "    print(\"Number of ocurrences of '\" + str(i) + \"': \" + str(mydict[i]))"
   ]
  },
  {
   "cell_type": "code",
   "execution_count": 25,
   "metadata": {},
   "outputs": [
    {
     "name": "stdout",
     "output_type": "stream",
     "text": [
      "{'Bhavadeep', 'Parth', 'Mukul', 'Tanishq', 'Manavv', 'Prateek'}\n",
      "{'Tanishq'}\n",
      "{'Parth', 'Bhavadeep', 'Manavv'}\n"
     ]
    }
   ],
   "source": [
    "sing = {'Mukul', 'Tanishq', 'Prateek'}\n",
    "dance = {'Parth', 'Bhavadeep', 'Manavv', 'Tanishq'}\n",
    "print(sing.union(dance))\n",
    "print(sing.intersection(dance))\n",
    "print(dance.difference(sing))"
   ]
  },
  {
   "cell_type": "markdown",
   "metadata": {},
   "source": [
    "## Tuple"
   ]
  },
  {
   "cell_type": "code",
   "execution_count": 44,
   "metadata": {},
   "outputs": [
    {
     "name": "stdout",
     "output_type": "stream",
     "text": [
      "(1, 24, 23, 5342, 653)\n",
      "(453, 45, 435, 346, 34, 5)\n",
      "(24, 5342, 346, 34)\n",
      "(1, 24, 23, 5342, 653, 453, 45, 435, 346, 34, 5, 234, 23, 423, 4)\n",
      "[(1, 234), (24, 23), (23, 423), (5342, 4)]\n"
     ]
    }
   ],
   "source": [
    "temp_tuple = (1,24,23,5342,653,453,45,435,346,34,5)\n",
    "t_half = int(len(temp_tuple)/2)\n",
    "print(temp_tuple[:t_half])\n",
    "print(temp_tuple[t_half:])\n",
    "print(tuple(x for x in temp_tuple if x%2 == 0))\n",
    "temp_tuple2 = (234,23,423,4)\n",
    "print(temp_tuple+temp_tuple2)\n",
    "print(list(zip(temp_tuple,temp_tuple2)))\n"
   ]
  }
 ],
 "metadata": {
  "kernelspec": {
   "display_name": "Python 3",
   "language": "python",
   "name": "python3"
  },
  "language_info": {
   "codemirror_mode": {
    "name": "ipython",
    "version": 3
   },
   "file_extension": ".py",
   "mimetype": "text/x-python",
   "name": "python",
   "nbconvert_exporter": "python",
   "pygments_lexer": "ipython3",
   "version": "3.7.3"
  }
 },
 "nbformat": 4,
 "nbformat_minor": 2
}
