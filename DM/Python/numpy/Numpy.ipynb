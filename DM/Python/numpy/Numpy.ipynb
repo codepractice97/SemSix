{
 "cells": [
  {
   "cell_type": "code",
   "execution_count": null,
   "metadata": {},
   "outputs": [],
   "source": [
    "import numpy as np"
   ]
  },
  {
   "cell_type": "code",
   "execution_count": 1,
   "metadata": {},
   "outputs": [
    {
     "name": "stdout",
     "output_type": "stream",
     "text": [
      "CPU times: user 4 ms, sys: 0 ns, total: 4 ms\n",
      "Wall time: 2.73 ms\n",
      "CPU times: user 460 ms, sys: 88 ms, total: 548 ms\n",
      "Wall time: 545 ms\n"
     ]
    }
   ],
   "source": [
    "import numpy as np\n",
    "my_arr = np.arange(100000)\n",
    "my_list = list(range(1000000))\n",
    "%time for _ in range(10) : my_arr = my_arr*2\n",
    "%time for _ in range(10) : my_list = [x*2 for x in my_list]\n"
   ]
  },
  {
   "cell_type": "code",
   "execution_count": 26,
   "metadata": {},
   "outputs": [
    {
     "name": "stdout",
     "output_type": "stream",
     "text": [
      "[16 17 12 11 15 15 21 13 18 16]\n",
      "[[16 17]\n",
      " [12 11]\n",
      " [15 15]\n",
      " [21 13]\n",
      " [18 16]]\n",
      "[13672.21122842  4976.28276329 10602.87520587 18010.75068303\n",
      " 16286.01631621]\n",
      "63548.13619681433\n",
      "18010.750683030285\n",
      "3\n"
     ]
    }
   ],
   "source": [
    "import numpy as np\n",
    "n=10\n",
    "l_limit=5\n",
    "u_limit=25\n",
    "np.random.seed(14)\n",
    "cyl=np.random.randint(l_limit,u_limit,n)\n",
    "print(cyl)\n",
    "cyl.ndim #gives the dimension of array\n",
    "cyl.dtype #gives the data type of array\n",
    "cyl.size #gives the number of elements in an array\n",
    "cyl.shape #gives the no. of elements in all dimensions\n",
    "container=cyl.reshape(5,2)\n",
    "print(container)\n",
    "radius=container[:,0]\n",
    "height=container[:,1]\n",
    "vol=np.pi*(radius**2)*height\n",
    "print(vol)\n",
    "total_vol=vol.sum()\n",
    "print(total_vol)\n",
    "print(vol.max())\n",
    "print(vol.argmax())"
   ]
  },
  {
   "cell_type": "code",
   "execution_count": 104,
   "metadata": {},
   "outputs": [
    {
     "name": "stdout",
     "output_type": "stream",
     "text": [
      "[ 1  2 23  3  2]\n",
      "[1. 1. 1. 1. 1. 1. 1. 1. 1. 1.]\n"
     ]
    }
   ],
   "source": [
    "data=[1,2,23,3,2.2]\n",
    "arr1=np.array(data,dtype=np.int32)\n",
    "print(arr1)\n",
    "np.asarray(arr1)\n",
    "arr2=np.empty(10)\n",
    "print(arr2)"
   ]
  },
  {
   "cell_type": "code",
   "execution_count": 113,
   "metadata": {},
   "outputs": [
    {
     "name": "stdout",
     "output_type": "stream",
     "text": [
      "[[11 22 33]\n",
      " [44 55 66]\n",
      " [77 88 99]]\n",
      "[33 66 99]\n"
     ]
    }
   ],
   "source": [
    "import numpy as np\n",
    "arr=[np.arange(11,44,11),np.arange(44,77,11),np.arange(77,101,11)]\n",
    "arr1=np.array(arr,dtype=np.int32)\n",
    "print(arr1)\n",
    "three=arr1[:,2]\n",
    "print(three)"
   ]
  }
 ],
 "metadata": {
  "kernelspec": {
   "display_name": "Python 3",
   "language": "python",
   "name": "python3"
  },
  "language_info": {
   "codemirror_mode": {
    "name": "ipython",
    "version": 3
   },
   "file_extension": ".py",
   "mimetype": "text/x-python",
   "name": "python",
   "nbconvert_exporter": "python",
   "pygments_lexer": "ipython3",
   "version": "3.7.3"
  }
 },
 "nbformat": 4,
 "nbformat_minor": 2
}
