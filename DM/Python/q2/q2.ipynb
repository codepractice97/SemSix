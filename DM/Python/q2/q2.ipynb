{
 "cells": [
  {
   "cell_type": "code",
   "execution_count": 2,
   "metadata": {},
   "outputs": [],
   "source": [
    "import pandas as pd\n",
    "import numpy as np\n",
    "import matplotlib.pyplot as plt"
   ]
  },
  {
   "cell_type": "code",
   "execution_count": 3,
   "metadata": {},
   "outputs": [],
   "source": [
    "dirty_data = pd.read_csv('Mukul Singh - dirty_iris.csv')"
   ]
  },
  {
   "cell_type": "markdown",
   "metadata": {},
   "source": [
    "# Calculate the number and percentage of observations that are complete."
   ]
  },
  {
   "cell_type": "code",
   "execution_count": 4,
   "metadata": {},
   "outputs": [],
   "source": [
    "no_na_data = dirty_data.dropna()"
   ]
  },
  {
   "cell_type": "code",
   "execution_count": 5,
   "metadata": {},
   "outputs": [
    {
     "name": "stdout",
     "output_type": "stream",
     "text": [
      "Number of complete observations: 96\n",
      "Percentage of observations which are complete: 64.0%\n"
     ]
    }
   ],
   "source": [
    "print(f'Number of complete observations: {no_na_data.shape[0]}')\n",
    "print(f'Percentage of observations which are complete: {no_na_data.shape[0]/dirty_data.shape[0]*100}%')"
   ]
  },
  {
   "cell_type": "markdown",
   "metadata": {},
   "source": [
    "# Replace all the special values in data with NA."
   ]
  },
  {
   "cell_type": "code",
   "execution_count": 6,
   "metadata": {},
   "outputs": [
    {
     "data": {
      "text/plain": [
       "array([6.4, 3.2, 4.5, 1.5, 'versicolor', 6.3, 3.3, 6.0, 2.5, 'virginica',\n",
       "       6.2, nan, 5.4, 2.3, 5.0, 3.4, 1.6, 0.4, 'setosa', 5.7, 2.6, 3.5,\n",
       "       1.0, 5.3, 0.2, 2.7, 5.9, 3.0, 5.1, 1.8, 5.8, 4.1, 4.8, 3.1, 0.6,\n",
       "       6.8, 2.8, 1.4, 3.9, 1.7, -3.0, 5.5, 4.0, 1.3, 4.7, 5.6, 4.2, 4.9,\n",
       "       3.6, 0.1, 6.7, 2.1, 4.6, 73.0, 29.0, 63.0, 6.5, 2.0, 0.82, 4.4,\n",
       "       2.9, 6.6, 23.0, 2.2, 1.2, 0.0, 1.9, 7.7, 7.0, 5.2, 3.8, 0.3, 7.4,\n",
       "       6.1, 4.3, 1.1, 7.2, 6.9, 7.6, 7.9, 3.7, inf, 0.925, 2.4, 49.0,\n",
       "       30.0, 14.0, 0.5], dtype=object)"
      ]
     },
     "execution_count": 6,
     "metadata": {},
     "output_type": "execute_result"
    }
   ],
   "source": [
    "pd.unique(dirty_data.values.flatten())"
   ]
  },
  {
   "cell_type": "code",
   "execution_count": 7,
   "metadata": {},
   "outputs": [],
   "source": [
    "# values to revove: nan, inf\n",
    "dirty_data = dirty_data.replace([np.inf, np.nan], pd.NA)"
   ]
  },
  {
   "cell_type": "code",
   "execution_count": 8,
   "metadata": {},
   "outputs": [
    {
     "data": {
      "text/plain": [
       "array([6.4, 3.2, 4.5, 1.5, 'versicolor', 6.3, 3.3, 6.0, 2.5, 'virginica',\n",
       "       6.2, nan, 5.4, 2.3, 5.0, 3.4, 1.6, 0.4, 'setosa', 5.7, 2.6, 3.5,\n",
       "       1.0, 5.3, 0.2, 2.7, 5.9, 3.0, 5.1, 1.8, 5.8, 4.1, 4.8, 3.1, 0.6,\n",
       "       6.8, 2.8, 1.4, 3.9, 1.7, -3.0, 5.5, 4.0, 1.3, 4.7, 5.6, 4.2, 4.9,\n",
       "       3.6, 0.1, 6.7, 2.1, 4.6, 73.0, 29.0, 63.0, 6.5, 2.0, 0.82, 4.4,\n",
       "       2.9, 6.6, 23.0, 2.2, 1.2, 0.0, 1.9, 7.7, 7.0, 5.2, 3.8, 0.3, 7.4,\n",
       "       6.1, 4.3, 1.1, 7.2, 6.9, 7.6, 7.9, 3.7, 0.925, 2.4, 49.0, 30.0,\n",
       "       14.0, 0.5], dtype=object)"
      ]
     },
     "execution_count": 8,
     "metadata": {},
     "output_type": "execute_result"
    }
   ],
   "source": [
    "pd.unique(dirty_data.values.flatten())"
   ]
  },
  {
   "cell_type": "markdown",
   "metadata": {},
   "source": [
    "# Define these rules in a separate text file and read them.\n",
    "\n",
    "Print the resulting constraint object.\n",
    "\n",
    "- Species should be one of the following values: setosa, versicolor or virginica.\n",
    "- All measured numerical properties of an iris should be positive.\n",
    "- The petal length of an iris is atleast 2 times its petal width.\n",
    "- The sepal length of an iris cannot exceed 30cm.\n",
    "- The sepals of an iris are longer than its petals."
   ]
  },
  {
   "cell_type": "code",
   "execution_count": 9,
   "metadata": {},
   "outputs": [],
   "source": [
    "from ruleset import rule_set"
   ]
  },
  {
   "cell_type": "code",
   "execution_count": 10,
   "metadata": {},
   "outputs": [
    {
     "name": "stdout",
     "output_type": "stream",
     "text": [
      "{'check_species': <function check_species at 0x7f32bc3cec80>, 'check_positive': <function check_positive at 0x7f32bc3ce7b8>, 'check_petal_length': <function check_petal_length at 0x7f3289dc1d90>, 'check_sepal_length': <function check_sepal_length at 0x7f3289dc1d08>, 'check_sepal_petal_length': <function check_sepal_petal_length at 0x7f3289dc1c80>}\n"
     ]
    }
   ],
   "source": [
    "print(rule_set)"
   ]
  },
  {
   "cell_type": "markdown",
   "metadata": {},
   "source": [
    "# Determine how often each rule is broken (violatedEdits). Also summarize and plot the result."
   ]
  },
  {
   "cell_type": "code",
   "execution_count": 11,
   "metadata": {},
   "outputs": [
    {
     "name": "stdout",
     "output_type": "stream",
     "text": [
      "Constraint: Species should be one of the following values: setosa, versicolor or virginica.\n",
      "No violations\n",
      "Constraint: All measured numerical properties of an iris should be positive.\n",
      "1 violations\n",
      "Constraint: The petal length of an iris is atleast 2 times its petal width.\n",
      "3 violations\n",
      "Constraint: The sepal length of an iris cannot exceed 30cm.\n",
      "2 violations\n",
      "Constraint: The sepals of an iris are longer than its petals.\n",
      "2 violations\n"
     ]
    }
   ],
   "source": [
    "violations = {key: value(dirty_data) for key, value in rule_set.items()}"
   ]
  },
  {
   "cell_type": "code",
   "execution_count": 13,
   "metadata": {},
   "outputs": [
    {
     "data": {
      "image/png": "[encoded data removed]",
      "text/plain": [
       "<Figure size 432x288 with 1 Axes>"
      ]
     },
     "metadata": {
      "needs_background": "light"
     },
     "output_type": "display_data"
    }
   ],
   "source": [
    "plt.barh(range(len(violations.values())), list(violations.values()), tick_label=list(violations.keys()))\n",
    "plt.title('Number of violations of different constraints')\n",
    "plt.show()"
   ]
  },
  {
   "cell_type": "markdown",
   "metadata": {},
   "source": [
    "# Find outliers in sepal length using boxplot and boxplot.stats"
   ]
  },
  {
   "cell_type": "code",
   "execution_count": 14,
   "metadata": {},
   "outputs": [
    {
     "data": {
      "image/png": "[encoded data removed]",
      "text/plain": [
       "<Figure size 432x288 with 1 Axes>"
      ]
     },
     "metadata": {
      "needs_background": "light"
     },
     "output_type": "display_data"
    },
    {
     "name": "stdout",
     "output_type": "stream",
     "text": [
      "Outliers:\n"
     ]
    },
    {
     "data": {
      "text/plain": [
       "27     73.0\n",
       "42      0.0\n",
       "124    49.0\n",
       "Name: Sepal.Length, dtype: float64"
      ]
     },
     "execution_count": 14,
     "metadata": {},
     "output_type": "execute_result"
    }
   ],
   "source": [
    "s_len = dirty_data['Sepal.Length'].dropna()\n",
    "s_len.plot(kind='box')\n",
    "plt.show()\n",
    "\n",
    "q1 = s_len.quantile(0.25)\n",
    "q3 = s_len.quantile(0.75)\n",
    "iqr = q3-q1 #Interquartile range\n",
    "fence_low  = q1 - 1.5 * iqr\n",
    "fence_high = q3 + 1.5 * iqr\n",
    "print('Outliers:')\n",
    "s_len[~((s_len >= fence_low) & (s_len <= fence_high))]"
   ]
  }
 ],
 "metadata": {
  "kernelspec": {
   "display_name": "Python 3.6.9 64-bit ('venv': virtualenv)",
   "language": "python",
   "name": "python36964bitvenvvirtualenv519beaf1d5c44b399bcc5b3c705e75d0"
  },
  "language_info": {
   "codemirror_mode": {
    "name": "ipython",
    "version": 3
   },
   "file_extension": ".py",
   "mimetype": "text/x-python",
   "name": "python",
   "nbconvert_exporter": "python",
   "pygments_lexer": "ipython3",
   "version": "3.6.9"
  }
 },
 "nbformat": 4,
 "nbformat_minor": 4
}
