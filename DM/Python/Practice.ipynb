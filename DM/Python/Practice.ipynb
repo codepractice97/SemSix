{
 "cells": [
  {
   "cell_type": "code",
   "execution_count": 9,
   "metadata": {},
   "outputs": [
    {
     "name": "stdout",
     "output_type": "stream",
     "text": [
      "Enter string to count characters mukul\n",
      "{'u': 2, 'l': 1, 'k': 1, 'm': 1}\n",
      "Number of ocurrences of 'k': 1\n",
      "Number of ocurrences of 'l': 1\n",
      "Number of ocurrences of 'm': 1\n",
      "Number of ocurrences of 'u': 2\n"
     ]
    }
   ],
   "source": [
    "mystr = input('Enter string to count characters ')\n",
    "s = set(mystr)\n",
    "mydict = {}\n",
    "for i in s:\n",
    "    mydict[i]=mystr.count(i)\n",
    "print(mydict)\n",
    "for i in sorted(mydict.keys()):\n",
    "    print(\"Number of ocurrences of '\" + str(i) + \"': \" + str(mydict[i]))"
   ]
  },
  {
   "cell_type": "code",
   "execution_count": 25,
   "metadata": {},
   "outputs": [
    {
     "name": "stdout",
     "output_type": "stream",
     "text": [
      "{'Bhavadeep', 'Parth', 'Mukul', 'Tanishq', 'Manavv', 'Prateek'}\n",
      "{'Tanishq'}\n",
      "{'Parth', 'Bhavadeep', 'Manavv'}\n"
     ]
    }
   ],
   "source": [
    "sing = {'Mukul', 'Tanishq', 'Prateek'}\n",
    "dance = {'Parth', 'Bhavadeep', 'Manavv', 'Tanishq'}\n",
    "print(sing.union(dance))\n",
    "print(sing.intersection(dance))\n",
    "print(dance.difference(sing))"
   ]
  },
  {
   "cell_type": "markdown",
   "metadata": {},
   "source": [
    "## Tuple"
   ]
  },
  {
   "cell_type": "code",
   "execution_count": 44,
   "metadata": {},
   "outputs": [
    {
     "name": "stdout",
     "output_type": "stream",
     "text": [
      "(1, 24, 23, 5342, 653)\n",
      "(453, 45, 435, 346, 34, 5)\n",
      "(24, 5342, 346, 34)\n",
      "(1, 24, 23, 5342, 653, 453, 45, 435, 346, 34, 5, 234, 23, 423, 4)\n",
      "[(1, 234), (24, 23), (23, 423), (5342, 4)]\n"
     ]
    }
   ],
   "source": [
    "temp_tuple = (1,24,23,5342,653,453,45,435,346,34,5)\n",
    "t_half = int(len(temp_tuple)/2)\n",
    "print(temp_tuple[:t_half])\n",
    "print(temp_tuple[t_half:])\n",
    "print(tuple(x for x in temp_tuple if x%2 == 0))\n",
    "temp_tuple2 = (234,23,423,4)\n",
    "print(temp_tuple+temp_tuple2)\n",
    "print(list(zip(temp_tuple,temp_tuple2)))\n"
   ]
  },
  {
   "cell_type": "markdown",
   "metadata": {},
   "source": [
    "# Numpy"
   ]
  },
  {
   "cell_type": "code",
   "execution_count": 3,
   "metadata": {},
   "outputs": [
    {
     "name": "stdout",
     "output_type": "stream",
     "text": [
      "CPU times: user 20 ms, sys: 0 ns, total: 20 ms\n",
      "Wall time: 21.1 ms\n",
      "CPU times: user 588 ms, sys: 16 ms, total: 604 ms\n",
      "Wall time: 606 ms\n"
     ]
    }
   ],
   "source": [
    "import numpy\n",
    "\n",
    "size = 100000\n",
    "my_arr = numpy.arange(size)\n",
    "my_list = list(range(size))\n",
    "%time for _i in range(100): my_arr = my_arr * 2\n",
    "%time for _i in range(100): my_list2 = [x*2 for x in my_list]"
   ]
  },
  {
   "cell_type": "markdown",
   "metadata": {},
   "source": [
    "## Container Volumes"
   ]
  },
  {
   "cell_type": "code",
   "execution_count": 6,
   "metadata": {},
   "outputs": [
    {
     "data": {
      "text/plain": [
       "1"
      ]
     },
     "execution_count": 6,
     "metadata": {},
     "output_type": "execute_result"
    }
   ],
   "source": [
    "import numpy as np\n",
    "\n",
    "seed = 0\n",
    "n = 10\n",
    "l_limit = 5\n",
    "u_limit = 25\n",
    "\n",
    "np.random.seed(seed)\n",
    "cylinders = np.random.randint(l_limit, u_limit, n)"
   ]
  },
  {
   "cell_type": "code",
   "execution_count": 15,
   "metadata": {},
   "outputs": [
    {
     "name": "stdout",
     "output_type": "stream",
     "text": [
      "int64\n",
      "1\n",
      "10\n",
      "(10,)\n"
     ]
    }
   ],
   "source": [
    "print(cylinders.dtype)\n",
    "print(cylinders.ndim)\n",
    "print(cylinders.size)\n",
    "print(cylinders.shape)"
   ]
  },
  {
   "cell_type": "code",
   "execution_count": 38,
   "metadata": {},
   "outputs": [],
   "source": [
    "rows = 5\n",
    "cols = 2\n",
    "container = cylinders.reshape(rows, cols)"
   ]
  },
  {
   "cell_type": "code",
   "execution_count": 22,
   "metadata": {},
   "outputs": [],
   "source": [
    "radius = container[:,0]\n",
    "height = container[:,1]\n",
    "volume = np.pi*(radius**2)*height"
   ]
  },
  {
   "cell_type": "code",
   "execution_count": 33,
   "metadata": {},
   "outputs": [],
   "source": [
    "total_volume = volume.sum()\n",
    "maxvol_index = volume.argmax()"
   ]
  },
  {
   "cell_type": "code",
   "execution_count": 32,
   "metadata": {},
   "outputs": [
    {
     "name": "stdout",
     "output_type": "stream",
     "text": [
      "10186.928338530264\n",
      "14778.051842486386\n",
      "7199.758245451731\n"
     ]
    }
   ],
   "source": [
    "print(np.mean(volume))\n",
    "print(np.median(volume))\n",
    "print(np.std(volume))"
   ]
  },
  {
   "cell_type": "markdown",
   "metadata": {},
   "source": [
    "## More Examples"
   ]
  },
  {
   "cell_type": "code",
   "execution_count": 62,
   "metadata": {},
   "outputs": [
    {
     "name": "stdout",
     "output_type": "stream",
     "text": [
      "[1.000e+00 4.400e+01 5.430e+02 5.400e+00 2.342e+03]\n",
      "[0 0 0 0 0 0 0 0 0 0]\n",
      "[[1. 1. 1. 1. 1. 1. 1. 1. 1. 1.]\n",
      " [1. 1. 1. 1. 1. 1. 1. 1. 1. 1.]\n",
      " [1. 1. 1. 1. 1. 1. 1. 1. 1. 1.]\n",
      " [1. 1. 1. 1. 1. 1. 1. 1. 1. 1.]\n",
      " [1. 1. 1. 1. 1. 1. 1. 1. 1. 1.]\n",
      " [1. 1. 1. 1. 1. 1. 1. 1. 1. 1.]\n",
      " [1. 1. 1. 1. 1. 1. 1. 1. 1. 1.]\n",
      " [1. 1. 1. 1. 1. 1. 1. 1. 1. 1.]\n",
      " [1. 1. 1. 1. 1. 1. 1. 1. 1. 1.]\n",
      " [1. 1. 1. 1. 1. 1. 1. 1. 1. 1.]]\n",
      "[[1. 0. 0. 0. 0. 0. 0. 0. 0. 0.]\n",
      " [0. 1. 0. 0. 0. 0. 0. 0. 0. 0.]\n",
      " [0. 0. 1. 0. 0. 0. 0. 0. 0. 0.]\n",
      " [0. 0. 0. 1. 0. 0. 0. 0. 0. 0.]\n",
      " [0. 0. 0. 0. 1. 0. 0. 0. 0. 0.]\n",
      " [0. 0. 0. 0. 0. 1. 0. 0. 0. 0.]\n",
      " [0. 0. 0. 0. 0. 0. 1. 0. 0. 0.]\n",
      " [0. 0. 0. 0. 0. 0. 0. 1. 0. 0.]\n",
      " [0. 0. 0. 0. 0. 0. 0. 0. 1. 0.]\n",
      " [0. 0. 0. 0. 0. 0. 0. 0. 0. 1.]]\n",
      "[ 0  2  4  6  8 10 12 14 16 18 20 22 24 26 28 30 32 34 36 38 40 42 44 46\n",
      " 48 50 52 54 56 58 60 62 64 66 68 70 72 74 76 78 80 82 84 86 88 90 92 94\n",
      " 96 98]\n"
     ]
    }
   ],
   "source": [
    "data = [1,44,543,5.4,2342]\n",
    "print(np.array(data, dtype = np.float64))\n",
    "print(np.zeros(10, dtype = np.int64))\n",
    "print(np.ones((10,10)))\n",
    "print(np.identity(10))\n",
    "print(np.arange(100, step=2))"
   ]
  },
  {
   "cell_type": "code",
   "execution_count": 68,
   "metadata": {},
   "outputs": [
    {
     "data": {
      "text/plain": [
       "array([33, 66, 99])"
      ]
     },
     "execution_count": 68,
     "metadata": {},
     "output_type": "execute_result"
    }
   ],
   "source": [
    "my_arr = np.arange(11,100,11)\n",
    "my_arr = my_arr.reshape(3,3)\n",
    "my_arr[:,2]"
   ]
  }
 ],
 "metadata": {
  "kernelspec": {
   "display_name": "Python 3",
   "language": "python",
   "name": "python3"
  },
  "language_info": {
   "codemirror_mode": {
    "name": "ipython",
    "version": 3
   },
   "file_extension": ".py",
   "mimetype": "text/x-python",
   "name": "python",
   "nbconvert_exporter": "python",
   "pygments_lexer": "ipython3",
   "version": "3.7.3"
  }
 },
 "nbformat": 4,
 "nbformat_minor": 2
}
