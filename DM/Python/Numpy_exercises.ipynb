{
  "nbformat": 4,
  "nbformat_minor": 0,
  "metadata": {
    "kernelspec": {
      "display_name": "Python 3",
      "language": "python",
      "name": "python3"
    },
    "language_info": {
      "codemirror_mode": {
        "name": "ipython",
        "version": 3
      },
      "file_extension": ".py",
      "mimetype": "text/x-python",
      "name": "python",
      "nbconvert_exporter": "python",
      "pygments_lexer": "ipython3",
      "version": "3.7.3"
    },
    "colab": {
      "name": "Numpy exercises.ipynb",
      "provenance": []
    }
  },
  "cells": [
    {
      "cell_type": "markdown",
      "metadata": {
        "id": "90Qysn9upqCE",
        "colab_type": "text"
      },
      "source": [
        "Write a NumPy program to convert a given array into a list and then convert it into a list again."
      ]
    },
    {
      "cell_type": "code",
      "metadata": {
        "id": "_TsYYUqTpqCM",
        "colab_type": "code",
        "colab": {}
      },
      "source": [
        "import numpy as np"
      ],
      "execution_count": 0,
      "outputs": []
    },
    {
      "cell_type": "code",
      "metadata": {
        "id": "KI0m7ByspqCc",
        "colab_type": "code",
        "colab": {}
      },
      "source": [
        "a=np.array([1,2,3,4,5])"
      ],
      "execution_count": 0,
      "outputs": []
    },
    {
      "cell_type": "code",
      "metadata": {
        "id": "ArApJc8OpqCn",
        "colab_type": "code",
        "outputId": "949c50ca-3c97-4e42-8fb0-7df39b975d41",
        "colab": {
          "base_uri": "https://localhost:8080/",
          "height": 34
        }
      },
      "source": [
        "type(a)"
      ],
      "execution_count": 0,
      "outputs": [
        {
          "output_type": "execute_result",
          "data": {
            "text/plain": [
              "numpy.ndarray"
            ]
          },
          "metadata": {
            "tags": []
          },
          "execution_count": 3
        }
      ]
    },
    {
      "cell_type": "code",
      "metadata": {
        "id": "yA3IXyXupqCz",
        "colab_type": "code",
        "colab": {}
      },
      "source": [
        "a=a.tolist()"
      ],
      "execution_count": 0,
      "outputs": []
    },
    {
      "cell_type": "code",
      "metadata": {
        "id": "6LjE_5q8pqC9",
        "colab_type": "code",
        "outputId": "8cbafca4-6b85-40da-e131-f44c0c1fe314",
        "colab": {
          "base_uri": "https://localhost:8080/",
          "height": 34
        }
      },
      "source": [
        "type(a)"
      ],
      "execution_count": 0,
      "outputs": [
        {
          "output_type": "execute_result",
          "data": {
            "text/plain": [
              "list"
            ]
          },
          "metadata": {
            "tags": []
          },
          "execution_count": 5
        }
      ]
    },
    {
      "cell_type": "code",
      "metadata": {
        "id": "l4gVc0pQpqDK",
        "colab_type": "code",
        "colab": {}
      },
      "source": [
        "a=np.array(a)"
      ],
      "execution_count": 0,
      "outputs": []
    },
    {
      "cell_type": "code",
      "metadata": {
        "id": "4rh-tSNIpqDT",
        "colab_type": "code",
        "outputId": "41d29bb0-6235-449e-f2ae-801eab40f07f",
        "colab": {
          "base_uri": "https://localhost:8080/",
          "height": 34
        }
      },
      "source": [
        "type(a)"
      ],
      "execution_count": 0,
      "outputs": [
        {
          "output_type": "execute_result",
          "data": {
            "text/plain": [
              "numpy.ndarray"
            ]
          },
          "metadata": {
            "tags": []
          },
          "execution_count": 7
        }
      ]
    },
    {
      "cell_type": "markdown",
      "metadata": {
        "id": "g9PLtG6CpqDb",
        "colab_type": "text"
      },
      "source": [
        "Create a 5X2 integer array from a range between 100 to 200 such that the difference between each element is 10."
      ]
    },
    {
      "cell_type": "code",
      "metadata": {
        "id": "YAkO6tGrpqDe",
        "colab_type": "code",
        "colab": {}
      },
      "source": [
        "b=np.arange(100,200,10).reshape(5,2)"
      ],
      "execution_count": 0,
      "outputs": []
    },
    {
      "cell_type": "code",
      "metadata": {
        "id": "G8aHzyGfpqDl",
        "colab_type": "code",
        "outputId": "727a8a83-2266-452d-9dad-50286a71d3d4",
        "colab": {
          "base_uri": "https://localhost:8080/",
          "height": 103
        }
      },
      "source": [
        "print(b)"
      ],
      "execution_count": 0,
      "outputs": [
        {
          "output_type": "stream",
          "text": [
            "[[100 110]\n",
            " [120 130]\n",
            " [140 150]\n",
            " [160 170]\n",
            " [180 190]]\n"
          ],
          "name": "stdout"
        }
      ]
    },
    {
      "cell_type": "markdown",
      "metadata": {
        "id": "7WBxBDAgpqDu",
        "colab_type": "text"
      },
      "source": [
        "Add the two 2d NumPy arrays and modify the  resulting array by calculating the square root of each element"
      ]
    },
    {
      "cell_type": "code",
      "metadata": {
        "id": "11M9_GbbpqDx",
        "colab_type": "code",
        "colab": {}
      },
      "source": [
        "a1=np.arange(1,10,1).reshape(3,3)"
      ],
      "execution_count": 0,
      "outputs": []
    },
    {
      "cell_type": "code",
      "metadata": {
        "id": "MW1AmeK-pqD3",
        "colab_type": "code",
        "colab": {}
      },
      "source": [
        "a2=np.arange(11,20,1).reshape(3,3)"
      ],
      "execution_count": 0,
      "outputs": []
    },
    {
      "cell_type": "code",
      "metadata": {
        "id": "Y8XMgyRdpqD9",
        "colab_type": "code",
        "colab": {}
      },
      "source": [
        "a3=a1+a2"
      ],
      "execution_count": 0,
      "outputs": []
    },
    {
      "cell_type": "code",
      "metadata": {
        "id": "bv7gfh79pqEC",
        "colab_type": "code",
        "outputId": "9cd16f80-e3f9-4629-b42d-1b2919fd2732",
        "colab": {
          "base_uri": "https://localhost:8080/",
          "height": 68
        }
      },
      "source": [
        "a3"
      ],
      "execution_count": 0,
      "outputs": [
        {
          "output_type": "execute_result",
          "data": {
            "text/plain": [
              "array([[12, 14, 16],\n",
              "       [18, 20, 22],\n",
              "       [24, 26, 28]])"
            ]
          },
          "metadata": {
            "tags": []
          },
          "execution_count": 13
        }
      ]
    },
    {
      "cell_type": "code",
      "metadata": {
        "id": "m4x0iGqfpqEL",
        "colab_type": "code",
        "colab": {}
      },
      "source": [
        "a4=np.sqrt(a3)"
      ],
      "execution_count": 0,
      "outputs": []
    },
    {
      "cell_type": "code",
      "metadata": {
        "id": "WbNKeQzNpqER",
        "colab_type": "code",
        "outputId": "cb549c37-3461-4d57-ed93-adc7551add05",
        "colab": {
          "base_uri": "https://localhost:8080/",
          "height": 68
        }
      },
      "source": [
        "a4"
      ],
      "execution_count": 0,
      "outputs": [
        {
          "output_type": "execute_result",
          "data": {
            "text/plain": [
              "array([[3.46410162, 3.74165739, 4.        ],\n",
              "       [4.24264069, 4.47213595, 4.69041576],\n",
              "       [4.89897949, 5.09901951, 5.29150262]])"
            ]
          },
          "metadata": {
            "tags": []
          },
          "execution_count": 15
        }
      ]
    },
    {
      "cell_type": "markdown",
      "metadata": {
        "id": "wenUOfEupqEY",
        "colab_type": "text"
      },
      "source": [
        "Create an 8X3 integer array from a range between 10 to 34 such that the difference between each element is 1 and then Split the array into four equal-sized sub-arrays."
      ]
    },
    {
      "cell_type": "code",
      "metadata": {
        "id": "MWpEVjCHpqEZ",
        "colab_type": "code",
        "colab": {}
      },
      "source": [
        "d=np.arange(10,34,1).reshape(8,3)"
      ],
      "execution_count": 0,
      "outputs": []
    },
    {
      "cell_type": "code",
      "metadata": {
        "id": "OqVrsIEfpqEf",
        "colab_type": "code",
        "outputId": "8d5d9241-9296-46d0-d13f-69f4398ac646",
        "colab": {
          "base_uri": "https://localhost:8080/",
          "height": 155
        }
      },
      "source": [
        "d"
      ],
      "execution_count": 0,
      "outputs": [
        {
          "output_type": "execute_result",
          "data": {
            "text/plain": [
              "array([[10, 11, 12],\n",
              "       [13, 14, 15],\n",
              "       [16, 17, 18],\n",
              "       [19, 20, 21],\n",
              "       [22, 23, 24],\n",
              "       [25, 26, 27],\n",
              "       [28, 29, 30],\n",
              "       [31, 32, 33]])"
            ]
          },
          "metadata": {
            "tags": []
          },
          "execution_count": 17
        }
      ]
    },
    {
      "cell_type": "code",
      "metadata": {
        "id": "uEE4z8NGpqEk",
        "colab_type": "code",
        "colab": {}
      },
      "source": [
        "d2=np.split(d,4)"
      ],
      "execution_count": 0,
      "outputs": []
    },
    {
      "cell_type": "code",
      "metadata": {
        "id": "sIQiqD1upqEp",
        "colab_type": "code",
        "outputId": "bf606b0e-0b7d-48d5-f922-04e91c13e433",
        "colab": {
          "base_uri": "https://localhost:8080/",
          "height": 103
        }
      },
      "source": [
        "d2"
      ],
      "execution_count": 0,
      "outputs": [
        {
          "output_type": "execute_result",
          "data": {
            "text/plain": [
              "[array([[10, 11, 12],\n",
              "        [13, 14, 15]]), array([[16, 17, 18],\n",
              "        [19, 20, 21]]), array([[22, 23, 24],\n",
              "        [25, 26, 27]]), array([[28, 29, 30],\n",
              "        [31, 32, 33]])]"
            ]
          },
          "metadata": {
            "tags": []
          },
          "execution_count": 19
        }
      ]
    },
    {
      "cell_type": "markdown",
      "metadata": {
        "id": "W-_4IAOIpqEu",
        "colab_type": "text"
      },
      "source": [
        "Write a NumPy program to create an array of all the even integers from 30 to 70."
      ]
    },
    {
      "cell_type": "code",
      "metadata": {
        "id": "ifz4MtlBpqEx",
        "colab_type": "code",
        "colab": {}
      },
      "source": [
        "e=np.arange(30,70,2)"
      ],
      "execution_count": 0,
      "outputs": []
    },
    {
      "cell_type": "code",
      "metadata": {
        "id": "OsYCJrD0pqE3",
        "colab_type": "code",
        "outputId": "b661fb85-8deb-4c50-b1ae-321101281119",
        "colab": {
          "base_uri": "https://localhost:8080/",
          "height": 51
        }
      },
      "source": [
        "e"
      ],
      "execution_count": 0,
      "outputs": [
        {
          "output_type": "execute_result",
          "data": {
            "text/plain": [
              "array([30, 32, 34, 36, 38, 40, 42, 44, 46, 48, 50, 52, 54, 56, 58, 60, 62,\n",
              "       64, 66, 68])"
            ]
          },
          "metadata": {
            "tags": []
          },
          "execution_count": 21
        }
      ]
    },
    {
      "cell_type": "markdown",
      "metadata": {
        "id": "J72hDVrKpqE-",
        "colab_type": "text"
      },
      "source": [
        "Write a NumPy program to create a 10x10 matrix, in which the elements on the borders will be equal to 1, and inside 0."
      ]
    },
    {
      "cell_type": "code",
      "metadata": {
        "id": "hvlL8ThfpqE_",
        "colab_type": "code",
        "colab": {}
      },
      "source": [
        "f=np.zeros((10,10),dtype=int)"
      ],
      "execution_count": 0,
      "outputs": []
    },
    {
      "cell_type": "code",
      "metadata": {
        "id": "S1RF27QTpqFH",
        "colab_type": "code",
        "outputId": "32272093-2451-4dc4-b603-592a0a198dcb",
        "colab": {
          "base_uri": "https://localhost:8080/",
          "height": 383
        }
      },
      "source": [
        "f"
      ],
      "execution_count": 0,
      "outputs": [
        {
          "output_type": "execute_result",
          "data": {
            "text/plain": [
              "array([[0, 0, 0, 0, 0, 0, 0, 0, 0, 0],\n",
              "       [0, 0, 0, 0, 0, 0, 0, 0, 0, 0],\n",
              "       [0, 0, 0, 0, 0, 0, 0, 0, 0, 0],\n",
              "       [0, 0, 0, 0, 0, 0, 0, 0, 0, 0],\n",
              "       [0, 0, 0, 0, 0, 0, 0, 0, 0, 0],\n",
              "       [0, 0, 0, 0, 0, 0, 0, 0, 0, 0],\n",
              "       [0, 0, 0, 0, 0, 0, 0, 0, 0, 0],\n",
              "       [0, 0, 0, 0, 0, 0, 0, 0, 0, 0],\n",
              "       [0, 0, 0, 0, 0, 0, 0, 0, 0, 0],\n",
              "       [0, 0, 0, 0, 0, 0, 0, 0, 0, 0]])"
            ]
          },
          "metadata": {
            "tags": []
          },
          "execution_count": 23
        }
      ]
    },
    {
      "cell_type": "code",
      "metadata": {
        "id": "GVOSRK7wpqFM",
        "colab_type": "code",
        "colab": {}
      },
      "source": [
        "f[:,0]=1"
      ],
      "execution_count": 0,
      "outputs": []
    },
    {
      "cell_type": "code",
      "metadata": {
        "id": "fSRzR_P9pqFS",
        "colab_type": "code",
        "colab": {}
      },
      "source": [
        "f[:,-1]=1"
      ],
      "execution_count": 0,
      "outputs": []
    },
    {
      "cell_type": "code",
      "metadata": {
        "id": "e8e9SPOnpqFY",
        "colab_type": "code",
        "colab": {}
      },
      "source": [
        "f[0,:]=1"
      ],
      "execution_count": 0,
      "outputs": []
    },
    {
      "cell_type": "code",
      "metadata": {
        "id": "6GYvvrEzpqFe",
        "colab_type": "code",
        "colab": {}
      },
      "source": [
        "f[-1,:]=1"
      ],
      "execution_count": 0,
      "outputs": []
    },
    {
      "cell_type": "code",
      "metadata": {
        "id": "srstrY2kpqFj",
        "colab_type": "code",
        "outputId": "a668fc64-ae90-4935-ddd1-4d299010ee39",
        "colab": {
          "base_uri": "https://localhost:8080/",
          "height": 383
        }
      },
      "source": [
        "f"
      ],
      "execution_count": 0,
      "outputs": [
        {
          "output_type": "execute_result",
          "data": {
            "text/plain": [
              "array([[1, 1, 1, 1, 1, 1, 1, 1, 1, 1],\n",
              "       [1, 0, 0, 0, 0, 0, 0, 0, 0, 1],\n",
              "       [1, 0, 0, 0, 0, 0, 0, 0, 0, 1],\n",
              "       [1, 0, 0, 0, 0, 0, 0, 0, 0, 1],\n",
              "       [1, 0, 0, 0, 0, 0, 0, 0, 0, 1],\n",
              "       [1, 0, 0, 0, 0, 0, 0, 0, 0, 1],\n",
              "       [1, 0, 0, 0, 0, 0, 0, 0, 0, 1],\n",
              "       [1, 0, 0, 0, 0, 0, 0, 0, 0, 1],\n",
              "       [1, 0, 0, 0, 0, 0, 0, 0, 0, 1],\n",
              "       [1, 1, 1, 1, 1, 1, 1, 1, 1, 1]])"
            ]
          },
          "metadata": {
            "tags": []
          },
          "execution_count": 28
        }
      ]
    },
    {
      "cell_type": "markdown",
      "metadata": {
        "id": "aUMKiqegpqFo",
        "colab_type": "text"
      },
      "source": [
        "Write a NumPy program to create a 5x5 zero matrix with elements on the main diagonal equal to 1, 2, 3, 4, 5"
      ]
    },
    {
      "cell_type": "code",
      "metadata": {
        "id": "QC1g2F7KpqFr",
        "colab_type": "code",
        "outputId": "10c53eda-bb10-4013-e92c-e47434119862",
        "colab": {
          "base_uri": "https://localhost:8080/",
          "height": 103
        }
      },
      "source": [
        "g=np.diag(np.arange(1,6,1))\n",
        "g"
      ],
      "execution_count": 0,
      "outputs": [
        {
          "output_type": "execute_result",
          "data": {
            "text/plain": [
              "array([[1, 0, 0, 0, 0],\n",
              "       [0, 2, 0, 0, 0],\n",
              "       [0, 0, 3, 0, 0],\n",
              "       [0, 0, 0, 4, 0],\n",
              "       [0, 0, 0, 0, 5]])"
            ]
          },
          "metadata": {
            "tags": []
          },
          "execution_count": 29
        }
      ]
    },
    {
      "cell_type": "markdown",
      "metadata": {
        "id": "KUvoP-t0pqFy",
        "colab_type": "text"
      },
      "source": [
        "How to remove from one array those items that exist in another?"
      ]
    },
    {
      "cell_type": "code",
      "metadata": {
        "id": "3xvuYKVQpqFz",
        "colab_type": "code",
        "colab": {}
      },
      "source": [
        "g1=np.arange(1,10,1)\n",
        "g2=np.arange(5,15,1)"
      ],
      "execution_count": 0,
      "outputs": []
    },
    {
      "cell_type": "code",
      "metadata": {
        "id": "tja4ISGMpqF7",
        "colab_type": "code",
        "outputId": "8e69f215-5a5b-4a79-e1a6-d664b5f0d5cf",
        "colab": {
          "base_uri": "https://localhost:8080/",
          "height": 51
        }
      },
      "source": [
        "print(g1)\n",
        "print(g2)"
      ],
      "execution_count": 0,
      "outputs": [
        {
          "output_type": "stream",
          "text": [
            "[1 2 3 4 5 6 7 8 9]\n",
            "[ 5  6  7  8  9 10 11 12 13 14]\n"
          ],
          "name": "stdout"
        }
      ]
    },
    {
      "cell_type": "code",
      "metadata": {
        "id": "ejw47cfypqGB",
        "colab_type": "code",
        "colab": {}
      },
      "source": [
        "g3=[i for i in g1 if i not in g2]"
      ],
      "execution_count": 0,
      "outputs": []
    },
    {
      "cell_type": "code",
      "metadata": {
        "id": "YQji2gAKpqGF",
        "colab_type": "code",
        "outputId": "304c5189-5993-453b-a0bb-c4f524f6f13e",
        "colab": {
          "base_uri": "https://localhost:8080/",
          "height": 34
        }
      },
      "source": [
        "g3"
      ],
      "execution_count": 0,
      "outputs": [
        {
          "output_type": "execute_result",
          "data": {
            "text/plain": [
              "[1, 2, 3, 4]"
            ]
          },
          "metadata": {
            "tags": []
          },
          "execution_count": 33
        }
      ]
    },
    {
      "cell_type": "markdown",
      "metadata": {
        "id": "ME6bV18dpqGR",
        "colab_type": "text"
      },
      "source": [
        "How to swap two columns in a 2d NumPy array."
      ]
    },
    {
      "cell_type": "code",
      "metadata": {
        "id": "eb1pK-67pqGS",
        "colab_type": "code",
        "colab": {}
      },
      "source": [
        "h=np.arange(1,21,1).reshape(2,10)"
      ],
      "execution_count": 0,
      "outputs": []
    },
    {
      "cell_type": "code",
      "metadata": {
        "id": "Q-gI3CIkpqGY",
        "colab_type": "code",
        "outputId": "d07c16f3-23f3-484a-e63f-6410d77ed748",
        "colab": {
          "base_uri": "https://localhost:8080/",
          "height": 51
        }
      },
      "source": [
        "h"
      ],
      "execution_count": 0,
      "outputs": [
        {
          "output_type": "execute_result",
          "data": {
            "text/plain": [
              "array([[ 1,  2,  3,  4,  5,  6,  7,  8,  9, 10],\n",
              "       [11, 12, 13, 14, 15, 16, 17, 18, 19, 20]])"
            ]
          },
          "metadata": {
            "tags": []
          },
          "execution_count": 35
        }
      ]
    },
    {
      "cell_type": "code",
      "metadata": {
        "id": "z12EJhmUpqGe",
        "colab_type": "code",
        "colab": {}
      },
      "source": [
        "h[:,[2,3]],h[:,[3,2]]=h[:,[3,2]],h[:,[2,3]]"
      ],
      "execution_count": 0,
      "outputs": []
    },
    {
      "cell_type": "code",
      "metadata": {
        "id": "CEvH1uaupqGi",
        "colab_type": "code",
        "outputId": "4d17fc52-d45d-416d-aa2e-1e7d7c6d9d1b",
        "colab": {
          "base_uri": "https://localhost:8080/",
          "height": 51
        }
      },
      "source": [
        "h"
      ],
      "execution_count": 0,
      "outputs": [
        {
          "output_type": "execute_result",
          "data": {
            "text/plain": [
              "array([[ 1,  2,  4,  3,  5,  6,  7,  8,  9, 10],\n",
              "       [11, 12, 14, 13, 15, 16, 17, 18, 19, 20]])"
            ]
          },
          "metadata": {
            "tags": []
          },
          "execution_count": 37
        }
      ]
    },
    {
      "cell_type": "markdown",
      "metadata": {
        "id": "NjxOnd16pqGm",
        "colab_type": "text"
      },
      "source": [
        "How to swap two rows in a 2d NumPy array."
      ]
    },
    {
      "cell_type": "code",
      "metadata": {
        "id": "FSyhjWQapqGp",
        "colab_type": "code",
        "outputId": "a2775c38-27d0-4fd5-af0b-f1a9f4fcb0af",
        "colab": {
          "base_uri": "https://localhost:8080/",
          "height": 51
        }
      },
      "source": [
        "h"
      ],
      "execution_count": 0,
      "outputs": [
        {
          "output_type": "execute_result",
          "data": {
            "text/plain": [
              "array([[ 1,  2,  4,  3,  5,  6,  7,  8,  9, 10],\n",
              "       [11, 12, 14, 13, 15, 16, 17, 18, 19, 20]])"
            ]
          },
          "metadata": {
            "tags": []
          },
          "execution_count": 38
        }
      ]
    },
    {
      "cell_type": "code",
      "metadata": {
        "id": "g1N8CP6KpqGw",
        "colab_type": "code",
        "colab": {}
      },
      "source": [
        "h[[0,1],:]=h[[1,0],:]"
      ],
      "execution_count": 0,
      "outputs": []
    },
    {
      "cell_type": "code",
      "metadata": {
        "id": "ez8BbJWJpqG2",
        "colab_type": "code",
        "outputId": "f62e3c8a-f22c-4454-87e3-685abb31367a",
        "colab": {
          "base_uri": "https://localhost:8080/",
          "height": 51
        }
      },
      "source": [
        "h"
      ],
      "execution_count": 0,
      "outputs": [
        {
          "output_type": "execute_result",
          "data": {
            "text/plain": [
              "array([[11, 12, 14, 13, 15, 16, 17, 18, 19, 20],\n",
              "       [ 1,  2,  4,  3,  5,  6,  7,  8,  9, 10]])"
            ]
          },
          "metadata": {
            "tags": []
          },
          "execution_count": 40
        }
      ]
    },
    {
      "cell_type": "markdown",
      "metadata": {
        "id": "ujvqWEpnpqG7",
        "colab_type": "text"
      },
      "source": [
        "How to reverse the rows of a 2D array"
      ]
    },
    {
      "cell_type": "code",
      "metadata": {
        "id": "QOw-16-gpqG9",
        "colab_type": "code",
        "colab": {}
      },
      "source": [
        "j=np.arange(1,13,1).reshape(3,4)"
      ],
      "execution_count": 0,
      "outputs": []
    },
    {
      "cell_type": "code",
      "metadata": {
        "id": "BK21XtbupqHD",
        "colab_type": "code",
        "outputId": "1935e858-a6ea-4d7d-b67b-c6d7ef11e403",
        "colab": {
          "base_uri": "https://localhost:8080/",
          "height": 68
        }
      },
      "source": [
        "j"
      ],
      "execution_count": 0,
      "outputs": [
        {
          "output_type": "execute_result",
          "data": {
            "text/plain": [
              "array([[ 1,  2,  3,  4],\n",
              "       [ 5,  6,  7,  8],\n",
              "       [ 9, 10, 11, 12]])"
            ]
          },
          "metadata": {
            "tags": []
          },
          "execution_count": 42
        }
      ]
    },
    {
      "cell_type": "code",
      "metadata": {
        "id": "6DX86n8UpqHH",
        "colab_type": "code",
        "colab": {}
      },
      "source": [
        "#reversing the rows\n",
        "j=np.flip(j,axis=0)"
      ],
      "execution_count": 0,
      "outputs": []
    },
    {
      "cell_type": "code",
      "metadata": {
        "id": "0HGr1xhHpqHN",
        "colab_type": "code",
        "outputId": "e903b325-258e-4b09-8788-6e0db4dfd852",
        "colab": {
          "base_uri": "https://localhost:8080/",
          "height": 68
        }
      },
      "source": [
        "j"
      ],
      "execution_count": 0,
      "outputs": [
        {
          "output_type": "execute_result",
          "data": {
            "text/plain": [
              "array([[ 9, 10, 11, 12],\n",
              "       [ 5,  6,  7,  8],\n",
              "       [ 1,  2,  3,  4]])"
            ]
          },
          "metadata": {
            "tags": []
          },
          "execution_count": 44
        }
      ]
    },
    {
      "cell_type": "markdown",
      "metadata": {
        "id": "t3ZfReEypqHV",
        "colab_type": "text"
      },
      "source": [
        "How to reverse the columns of a 2d array"
      ]
    },
    {
      "cell_type": "code",
      "metadata": {
        "id": "HSgzGGGOpqHW",
        "colab_type": "code",
        "colab": {}
      },
      "source": [
        "#reversing the columns\n",
        "j=np.flip(j,axis=1)"
      ],
      "execution_count": 0,
      "outputs": []
    },
    {
      "cell_type": "code",
      "metadata": {
        "id": "M4g5gyFWpqHb",
        "colab_type": "code",
        "outputId": "ac553d5f-3518-4cc1-a587-c3c1fa4ede26",
        "colab": {
          "base_uri": "https://localhost:8080/",
          "height": 68
        }
      },
      "source": [
        "j"
      ],
      "execution_count": 0,
      "outputs": [
        {
          "output_type": "execute_result",
          "data": {
            "text/plain": [
              "array([[12, 11, 10,  9],\n",
              "       [ 8,  7,  6,  5],\n",
              "       [ 4,  3,  2,  1]])"
            ]
          },
          "metadata": {
            "tags": []
          },
          "execution_count": 46
        }
      ]
    },
    {
      "cell_type": "markdown",
      "metadata": {
        "id": "8AHSNQSVpqHf",
        "colab_type": "text"
      },
      "source": [
        "How to get the common items between two python NumPy arrays?"
      ]
    },
    {
      "cell_type": "code",
      "metadata": {
        "id": "4Lu9JP-2pqHg",
        "colab_type": "code",
        "colab": {}
      },
      "source": [
        "k1=np.arange(1,10,1)\n",
        "k2=np.arange(5,15,1)"
      ],
      "execution_count": 0,
      "outputs": []
    },
    {
      "cell_type": "code",
      "metadata": {
        "id": "60GQpDxfpqHn",
        "colab_type": "code",
        "outputId": "2444ea64-d35e-4924-94e3-dab53b4d902b",
        "colab": {
          "base_uri": "https://localhost:8080/",
          "height": 34
        }
      },
      "source": [
        "print(k1,k2)"
      ],
      "execution_count": 0,
      "outputs": [
        {
          "output_type": "stream",
          "text": [
            "[1 2 3 4 5 6 7 8 9] [ 5  6  7  8  9 10 11 12 13 14]\n"
          ],
          "name": "stdout"
        }
      ]
    },
    {
      "cell_type": "code",
      "metadata": {
        "id": "8e9Qh1dupqHs",
        "colab_type": "code",
        "colab": {}
      },
      "source": [
        "k3=[i for i in k1 if i in k2]"
      ],
      "execution_count": 0,
      "outputs": []
    },
    {
      "cell_type": "code",
      "metadata": {
        "id": "Z3nbfDmUpqHx",
        "colab_type": "code",
        "outputId": "b39ce9da-e0a5-4169-c6e1-4b6fe6120893",
        "colab": {
          "base_uri": "https://localhost:8080/",
          "height": 34
        }
      },
      "source": [
        "k3"
      ],
      "execution_count": 0,
      "outputs": [
        {
          "output_type": "execute_result",
          "data": {
            "text/plain": [
              "[5, 6, 7, 8, 9]"
            ]
          },
          "metadata": {
            "tags": []
          },
          "execution_count": 50
        }
      ]
    },
    {
      "cell_type": "markdown",
      "metadata": {
        "id": "0wD7FbrwpqH1",
        "colab_type": "text"
      },
      "source": [
        "Get all items between 5 and 10 from arr."
      ]
    },
    {
      "cell_type": "code",
      "metadata": {
        "id": "wPljpcnepqH2",
        "colab_type": "code",
        "colab": {}
      },
      "source": [
        "arr=np.array([1,2,3,4,5,6,7,8,9,10,11,12,13])"
      ],
      "execution_count": 0,
      "outputs": []
    },
    {
      "cell_type": "code",
      "metadata": {
        "id": "xPD2vOv8pqH6",
        "colab_type": "code",
        "colab": {}
      },
      "source": [
        "arr=np.where(np.logical_and(arr>=5,arr<=10))"
      ],
      "execution_count": 0,
      "outputs": []
    },
    {
      "cell_type": "code",
      "metadata": {
        "id": "sKlG0GQ8pqH9",
        "colab_type": "code",
        "outputId": "3d8c7a7d-0797-49f9-96e8-536f53f96ca0",
        "colab": {
          "base_uri": "https://localhost:8080/",
          "height": 34
        }
      },
      "source": [
        "arr"
      ],
      "execution_count": 0,
      "outputs": [
        {
          "output_type": "execute_result",
          "data": {
            "text/plain": [
              "(array([4, 5, 6, 7, 8, 9]),)"
            ]
          },
          "metadata": {
            "tags": []
          },
          "execution_count": 53
        }
      ]
    },
    {
      "cell_type": "markdown",
      "metadata": {
        "id": "b1SWEBLKpqIB",
        "colab_type": "text"
      },
      "source": [
        "Create a two 2-D array and Plot it using matplotlib"
      ]
    },
    {
      "cell_type": "code",
      "metadata": {
        "id": "sNWOOga4pqIC",
        "colab_type": "code",
        "colab": {}
      },
      "source": [
        "l=np.arange(1,10,1).reshape(3,3)"
      ],
      "execution_count": 0,
      "outputs": []
    },
    {
      "cell_type": "code",
      "metadata": {
        "id": "l9h-99nMpqIF",
        "colab_type": "code",
        "colab": {}
      },
      "source": [
        "import matplotlib.pyplot as plt"
      ],
      "execution_count": 0,
      "outputs": []
    },
    {
      "cell_type": "code",
      "metadata": {
        "id": "ljFoKWYBpqII",
        "colab_type": "code",
        "outputId": "548ff28d-638d-423b-ec3c-cbd4837107f9",
        "colab": {
          "base_uri": "https://localhost:8080/",
          "height": 316
        }
      },
      "source": [
        "plt.plot(l)"
      ],
      "execution_count": 0,
      "outputs": [
        {
          "output_type": "execute_result",
          "data": {
            "text/plain": [
              "[<matplotlib.lines.Line2D at 0x7f8fc7824f28>,\n",
              " <matplotlib.lines.Line2D at 0x7f8fc77b1208>,\n",
              " <matplotlib.lines.Line2D at 0x7f8fc77b1358>]"
            ]
          },
          "metadata": {
            "tags": []
          },
          "execution_count": 56
        },
        {
          "output_type": "display_data",
          "data": {
            "image/png": "[encoded data removed]",
            "text/plain": [
              "<Figure size 432x288 with 1 Axes>"
            ]
          },
          "metadata": {
            "tags": []
          }
        }
      ]
    },
    {
      "cell_type": "markdown",
      "metadata": {
        "id": "vO5C4XHwpqIP",
        "colab_type": "text"
      },
      "source": [
        "Write a NumPy program to generate an array of 15 random numbers from a standard normal distribution."
      ]
    },
    {
      "cell_type": "code",
      "metadata": {
        "id": "_jf8Sn6ppqIR",
        "colab_type": "code",
        "outputId": "dfc3792f-e8d8-443d-f591-86d5480f7e07",
        "colab": {
          "base_uri": "https://localhost:8080/",
          "height": 68
        }
      },
      "source": [
        "rnum = np.random.normal(0,1,15)\n",
        "print(rnum)"
      ],
      "execution_count": 0,
      "outputs": [
        {
          "output_type": "stream",
          "text": [
            "[-0.40487065  1.02463868  2.13897676  0.34161659  0.71315354 -1.80459859\n",
            "  0.06953709 -0.61998371 -2.3812427  -0.33724655  0.89937758 -0.63997177\n",
            " -0.40050191 -0.26435562  1.04512133]\n"
          ],
          "name": "stdout"
        }
      ]
    },
    {
      "cell_type": "markdown",
      "metadata": {
        "id": "l-fETt3ypqIV",
        "colab_type": "text"
      },
      "source": [
        "How to get the positions where elements of two arrays match"
      ]
    },
    {
      "cell_type": "code",
      "metadata": {
        "id": "3NSguqdmpqIY",
        "colab_type": "code",
        "outputId": "71e779c4-7f15-4528-ac7c-d2fa6dcb58e5",
        "colab": {
          "base_uri": "https://localhost:8080/",
          "height": 34
        }
      },
      "source": [
        "m1=np.array([1,2,3,4,5,6,7,8,9])\n",
        "m2=np.array([5,6,7,8,5,10,11,12,13])\n",
        "print(np.where(m1==m2))"
      ],
      "execution_count": 0,
      "outputs": [
        {
          "output_type": "stream",
          "text": [
            "(array([4]),)\n"
          ],
          "name": "stdout"
        }
      ]
    },
    {
      "cell_type": "markdown",
      "metadata": {
        "id": "qX1cP5hLpqId",
        "colab_type": "text"
      },
      "source": [
        "Write a NumPy program to save a given array to a binary file"
      ]
    },
    {
      "cell_type": "code",
      "metadata": {
        "id": "JXQvV5NwpqIe",
        "colab_type": "code",
        "colab": {}
      },
      "source": [
        "from tempfile import TemporaryFile\n",
        "outfile=TemporaryFile()\n",
        "sa=np.arange(1,100,2)\n",
        "np.save(outfile,sa)"
      ],
      "execution_count": 0,
      "outputs": []
    },
    {
      "cell_type": "code",
      "metadata": {
        "id": "nMXukj7bpqIi",
        "colab_type": "code",
        "outputId": "757e5b9d-209c-4260-891a-7d56f5f6a4c4",
        "colab": {
          "base_uri": "https://localhost:8080/",
          "height": 68
        }
      },
      "source": [
        "b=outfile.seek(0)\n",
        "np.load(outfile)"
      ],
      "execution_count": 0,
      "outputs": [
        {
          "output_type": "execute_result",
          "data": {
            "text/plain": [
              "array([ 1,  3,  5,  7,  9, 11, 13, 15, 17, 19, 21, 23, 25, 27, 29, 31, 33,\n",
              "       35, 37, 39, 41, 43, 45, 47, 49, 51, 53, 55, 57, 59, 61, 63, 65, 67,\n",
              "       69, 71, 73, 75, 77, 79, 81, 83, 85, 87, 89, 91, 93, 95, 97, 99])"
            ]
          },
          "metadata": {
            "tags": []
          },
          "execution_count": 60
        }
      ]
    },
    {
      "cell_type": "code",
      "metadata": {
        "id": "xEaqWM1vpqIm",
        "colab_type": "code",
        "colab": {}
      },
      "source": [
        ""
      ],
      "execution_count": 0,
      "outputs": []
    },
    {
      "cell_type": "code",
      "metadata": {
        "id": "NxcM1RcSpqIq",
        "colab_type": "code",
        "colab": {}
      },
      "source": [
        ""
      ],
      "execution_count": 0,
      "outputs": []
    },
    {
      "cell_type": "code",
      "metadata": {
        "id": "IojWNCHepqIv",
        "colab_type": "code",
        "colab": {}
      },
      "source": [
        ""
      ],
      "execution_count": 0,
      "outputs": []
    },
    {
      "cell_type": "code",
      "metadata": {
        "id": "ADrM1p4DpqIz",
        "colab_type": "code",
        "colab": {}
      },
      "source": [
        ""
      ],
      "execution_count": 0,
      "outputs": []
    }
  ]
}