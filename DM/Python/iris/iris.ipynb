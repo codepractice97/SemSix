{
 "cells": [
  {
   "cell_type": "markdown",
   "metadata": {},
   "source": [
    "### q21"
   ]
  },
  {
   "cell_type": "code",
   "execution_count": 3,
   "metadata": {},
   "outputs": [
    {
     "data": {
      "text/plain": [
       "array([[b'5.1', b'3.5', b'1.4', b'0.2', b'Iris-setosa'],\n",
       "       [b'4.9', b'3.0', b'1.4', b'0.2', b'Iris-setosa'],\n",
       "       [b'4.7', b'3.2', b'1.3', b'0.2', b'Iris-setosa'],\n",
       "       [b'4.6', b'3.1', b'1.5', b'0.2', b'Iris-setosa'],\n",
       "       [b'5.0', b'3.6', b'1.4', b'0.2', b'Iris-setosa'],\n",
       "       [b'5.4', b'3.9', b'1.7', b'0.4', b'Iris-setosa'],\n",
       "       [b'4.6', b'3.4', b'1.4', b'0.3', b'Iris-setosa'],\n",
       "       [b'5.0', b'3.4', b'1.5', b'0.2', b'Iris-setosa'],\n",
       "       [b'4.4', b'2.9', b'1.4', b'0.2', b'Iris-setosa'],\n",
       "       [b'4.9', b'3.1', b'1.5', b'0.1', b'Iris-setosa'],\n",
       "       [b'5.4', b'3.7', b'1.5', b'0.2', b'Iris-setosa'],\n",
       "       [b'4.8', b'3.4', b'1.6', b'0.2', b'Iris-setosa'],\n",
       "       [b'4.8', b'3.0', b'1.4', b'0.1', b'Iris-setosa'],\n",
       "       [b'4.3', b'3.0', b'1.1', b'0.1', b'Iris-setosa'],\n",
       "       [b'5.8', b'4.0', b'1.2', b'0.2', b'Iris-setosa'],\n",
       "       [b'5.7', b'4.4', b'1.5', b'0.4', b'Iris-setosa'],\n",
       "       [b'5.4', b'3.9', b'1.3', b'0.4', b'Iris-setosa'],\n",
       "       [b'5.1', b'3.5', b'1.4', b'0.3', b'Iris-setosa'],\n",
       "       [b'5.7', b'3.8', b'1.7', b'0.3', b'Iris-setosa'],\n",
       "       [b'5.1', b'3.8', b'1.5', b'0.3', b'Iris-setosa'],\n",
       "       [b'5.4', b'3.4', b'1.7', b'0.2', b'Iris-setosa'],\n",
       "       [b'5.1', b'3.7', b'1.5', b'0.4', b'Iris-setosa'],\n",
       "       [b'4.6', b'3.6', b'1.0', b'0.2', b'Iris-setosa'],\n",
       "       [b'5.1', b'3.3', b'1.7', b'0.5', b'Iris-setosa'],\n",
       "       [b'4.8', b'3.4', b'1.9', b'0.2', b'Iris-setosa'],\n",
       "       [b'5.0', b'3.0', b'1.6', b'0.2', b'Iris-setosa'],\n",
       "       [b'5.0', b'3.4', b'1.6', b'0.4', b'Iris-setosa'],\n",
       "       [b'5.2', b'3.5', b'1.5', b'0.2', b'Iris-setosa'],\n",
       "       [b'5.2', b'3.4', b'1.4', b'0.2', b'Iris-setosa'],\n",
       "       [b'4.7', b'3.2', b'1.6', b'0.2', b'Iris-setosa'],\n",
       "       [b'4.8', b'3.1', b'1.6', b'0.2', b'Iris-setosa'],\n",
       "       [b'5.4', b'3.4', b'1.5', b'0.4', b'Iris-setosa'],\n",
       "       [b'5.2', b'4.1', b'1.5', b'0.1', b'Iris-setosa'],\n",
       "       [b'5.5', b'4.2', b'1.4', b'0.2', b'Iris-setosa'],\n",
       "       [b'4.9', b'3.1', b'1.5', b'0.1', b'Iris-setosa'],\n",
       "       [b'5.0', b'3.2', b'1.2', b'0.2', b'Iris-setosa'],\n",
       "       [b'5.5', b'3.5', b'1.3', b'0.2', b'Iris-setosa'],\n",
       "       [b'4.9', b'3.1', b'1.5', b'0.1', b'Iris-setosa'],\n",
       "       [b'4.4', b'3.0', b'1.3', b'0.2', b'Iris-setosa'],\n",
       "       [b'5.1', b'3.4', b'1.5', b'0.2', b'Iris-setosa'],\n",
       "       [b'5.0', b'3.5', b'1.3', b'0.3', b'Iris-setosa'],\n",
       "       [b'4.5', b'2.3', b'1.3', b'0.3', b'Iris-setosa'],\n",
       "       [b'4.4', b'3.2', b'1.3', b'0.2', b'Iris-setosa'],\n",
       "       [b'5.0', b'3.5', b'1.6', b'0.6', b'Iris-setosa'],\n",
       "       [b'5.1', b'3.8', b'1.9', b'0.4', b'Iris-setosa'],\n",
       "       [b'4.8', b'3.0', b'1.4', b'0.3', b'Iris-setosa'],\n",
       "       [b'5.1', b'3.8', b'1.6', b'0.2', b'Iris-setosa'],\n",
       "       [b'4.6', b'3.2', b'1.4', b'0.2', b'Iris-setosa'],\n",
       "       [b'5.3', b'3.7', b'1.5', b'0.2', b'Iris-setosa'],\n",
       "       [b'5.0', b'3.3', b'1.4', b'0.2', b'Iris-setosa'],\n",
       "       [b'7.0', b'3.2', b'4.7', b'1.4', b'Iris-versicolor'],\n",
       "       [b'6.4', b'3.2', b'4.5', b'1.5', b'Iris-versicolor'],\n",
       "       [b'6.9', b'3.1', b'4.9', b'1.5', b'Iris-versicolor'],\n",
       "       [b'5.5', b'2.3', b'4.0', b'1.3', b'Iris-versicolor'],\n",
       "       [b'6.5', b'2.8', b'4.6', b'1.5', b'Iris-versicolor'],\n",
       "       [b'5.7', b'2.8', b'4.5', b'1.3', b'Iris-versicolor'],\n",
       "       [b'6.3', b'3.3', b'4.7', b'1.6', b'Iris-versicolor'],\n",
       "       [b'4.9', b'2.4', b'3.3', b'1.0', b'Iris-versicolor'],\n",
       "       [b'6.6', b'2.9', b'4.6', b'1.3', b'Iris-versicolor'],\n",
       "       [b'5.2', b'2.7', b'3.9', b'1.4', b'Iris-versicolor'],\n",
       "       [b'5.0', b'2.0', b'3.5', b'1.0', b'Iris-versicolor'],\n",
       "       [b'5.9', b'3.0', b'4.2', b'1.5', b'Iris-versicolor'],\n",
       "       [b'6.0', b'2.2', b'4.0', b'1.0', b'Iris-versicolor'],\n",
       "       [b'6.1', b'2.9', b'4.7', b'1.4', b'Iris-versicolor'],\n",
       "       [b'5.6', b'2.9', b'3.6', b'1.3', b'Iris-versicolor'],\n",
       "       [b'6.7', b'3.1', b'4.4', b'1.4', b'Iris-versicolor'],\n",
       "       [b'5.6', b'3.0', b'4.5', b'1.5', b'Iris-versicolor'],\n",
       "       [b'5.8', b'2.7', b'4.1', b'1.0', b'Iris-versicolor'],\n",
       "       [b'6.2', b'2.2', b'4.5', b'1.5', b'Iris-versicolor'],\n",
       "       [b'5.6', b'2.5', b'3.9', b'1.1', b'Iris-versicolor'],\n",
       "       [b'5.9', b'3.2', b'4.8', b'1.8', b'Iris-versicolor'],\n",
       "       [b'6.1', b'2.8', b'4.0', b'1.3', b'Iris-versicolor'],\n",
       "       [b'6.3', b'2.5', b'4.9', b'1.5', b'Iris-versicolor'],\n",
       "       [b'6.1', b'2.8', b'4.7', b'1.2', b'Iris-versicolor'],\n",
       "       [b'6.4', b'2.9', b'4.3', b'1.3', b'Iris-versicolor'],\n",
       "       [b'6.6', b'3.0', b'4.4', b'1.4', b'Iris-versicolor'],\n",
       "       [b'6.8', b'2.8', b'4.8', b'1.4', b'Iris-versicolor'],\n",
       "       [b'6.7', b'3.0', b'5.0', b'1.7', b'Iris-versicolor'],\n",
       "       [b'6.0', b'2.9', b'4.5', b'1.5', b'Iris-versicolor'],\n",
       "       [b'5.7', b'2.6', b'3.5', b'1.0', b'Iris-versicolor'],\n",
       "       [b'5.5', b'2.4', b'3.8', b'1.1', b'Iris-versicolor'],\n",
       "       [b'5.5', b'2.4', b'3.7', b'1.0', b'Iris-versicolor'],\n",
       "       [b'5.8', b'2.7', b'3.9', b'1.2', b'Iris-versicolor'],\n",
       "       [b'6.0', b'2.7', b'5.1', b'1.6', b'Iris-versicolor'],\n",
       "       [b'5.4', b'3.0', b'4.5', b'1.5', b'Iris-versicolor'],\n",
       "       [b'6.0', b'3.4', b'4.5', b'1.6', b'Iris-versicolor'],\n",
       "       [b'6.7', b'3.1', b'4.7', b'1.5', b'Iris-versicolor'],\n",
       "       [b'6.3', b'2.3', b'4.4', b'1.3', b'Iris-versicolor'],\n",
       "       [b'5.6', b'3.0', b'4.1', b'1.3', b'Iris-versicolor'],\n",
       "       [b'5.5', b'2.5', b'4.0', b'1.3', b'Iris-versicolor'],\n",
       "       [b'5.5', b'2.6', b'4.4', b'1.2', b'Iris-versicolor'],\n",
       "       [b'6.1', b'3.0', b'4.6', b'1.4', b'Iris-versicolor'],\n",
       "       [b'5.8', b'2.6', b'4.0', b'1.2', b'Iris-versicolor'],\n",
       "       [b'5.0', b'2.3', b'3.3', b'1.0', b'Iris-versicolor'],\n",
       "       [b'5.6', b'2.7', b'4.2', b'1.3', b'Iris-versicolor'],\n",
       "       [b'5.7', b'3.0', b'4.2', b'1.2', b'Iris-versicolor'],\n",
       "       [b'5.7', b'2.9', b'4.2', b'1.3', b'Iris-versicolor'],\n",
       "       [b'6.2', b'2.9', b'4.3', b'1.3', b'Iris-versicolor'],\n",
       "       [b'5.1', b'2.5', b'3.0', b'1.1', b'Iris-versicolor'],\n",
       "       [b'5.7', b'2.8', b'4.1', b'1.3', b'Iris-versicolor'],\n",
       "       [b'6.3', b'3.3', b'6.0', b'2.5', b'Iris-virginica'],\n",
       "       [b'5.8', b'2.7', b'5.1', b'1.9', b'Iris-virginica'],\n",
       "       [b'7.1', b'3.0', b'5.9', b'2.1', b'Iris-virginica'],\n",
       "       [b'6.3', b'2.9', b'5.6', b'1.8', b'Iris-virginica'],\n",
       "       [b'6.5', b'3.0', b'5.8', b'2.2', b'Iris-virginica'],\n",
       "       [b'7.6', b'3.0', b'6.6', b'2.1', b'Iris-virginica'],\n",
       "       [b'4.9', b'2.5', b'4.5', b'1.7', b'Iris-virginica'],\n",
       "       [b'7.3', b'2.9', b'6.3', b'1.8', b'Iris-virginica'],\n",
       "       [b'6.7', b'2.5', b'5.8', b'1.8', b'Iris-virginica'],\n",
       "       [b'7.2', b'3.6', b'6.1', b'2.5', b'Iris-virginica'],\n",
       "       [b'6.5', b'3.2', b'5.1', b'2.0', b'Iris-virginica'],\n",
       "       [b'6.4', b'2.7', b'5.3', b'1.9', b'Iris-virginica'],\n",
       "       [b'6.8', b'3.0', b'5.5', b'2.1', b'Iris-virginica'],\n",
       "       [b'5.7', b'2.5', b'5.0', b'2.0', b'Iris-virginica'],\n",
       "       [b'5.8', b'2.8', b'5.1', b'2.4', b'Iris-virginica'],\n",
       "       [b'6.4', b'3.2', b'5.3', b'2.3', b'Iris-virginica'],\n",
       "       [b'6.5', b'3.0', b'5.5', b'1.8', b'Iris-virginica'],\n",
       "       [b'7.7', b'3.8', b'6.7', b'2.2', b'Iris-virginica'],\n",
       "       [b'7.7', b'2.6', b'6.9', b'2.3', b'Iris-virginica'],\n",
       "       [b'6.0', b'2.2', b'5.0', b'1.5', b'Iris-virginica'],\n",
       "       [b'6.9', b'3.2', b'5.7', b'2.3', b'Iris-virginica'],\n",
       "       [b'5.6', b'2.8', b'4.9', b'2.0', b'Iris-virginica'],\n",
       "       [b'7.7', b'2.8', b'6.7', b'2.0', b'Iris-virginica'],\n",
       "       [b'6.3', b'2.7', b'4.9', b'1.8', b'Iris-virginica'],\n",
       "       [b'6.7', b'3.3', b'5.7', b'2.1', b'Iris-virginica'],\n",
       "       [b'7.2', b'3.2', b'6.0', b'1.8', b'Iris-virginica'],\n",
       "       [b'6.2', b'2.8', b'4.8', b'1.8', b'Iris-virginica'],\n",
       "       [b'6.1', b'3.0', b'4.9', b'1.8', b'Iris-virginica'],\n",
       "       [b'6.4', b'2.8', b'5.6', b'2.1', b'Iris-virginica'],\n",
       "       [b'7.2', b'3.0', b'5.8', b'1.6', b'Iris-virginica'],\n",
       "       [b'7.4', b'2.8', b'6.1', b'1.9', b'Iris-virginica'],\n",
       "       [b'7.9', b'3.8', b'6.4', b'2.0', b'Iris-virginica'],\n",
       "       [b'6.4', b'2.8', b'5.6', b'2.2', b'Iris-virginica'],\n",
       "       [b'6.3', b'2.8', b'5.1', b'1.5', b'Iris-virginica'],\n",
       "       [b'6.1', b'2.6', b'5.6', b'1.4', b'Iris-virginica'],\n",
       "       [b'7.7', b'3.0', b'6.1', b'2.3', b'Iris-virginica'],\n",
       "       [b'6.3', b'3.4', b'5.6', b'2.4', b'Iris-virginica'],\n",
       "       [b'6.4', b'3.1', b'5.5', b'1.8', b'Iris-virginica'],\n",
       "       [b'6.0', b'3.0', b'4.8', b'1.8', b'Iris-virginica'],\n",
       "       [b'6.9', b'3.1', b'5.4', b'2.1', b'Iris-virginica'],\n",
       "       [b'6.7', b'3.1', b'5.6', b'2.4', b'Iris-virginica'],\n",
       "       [b'6.9', b'3.1', b'5.1', b'2.3', b'Iris-virginica'],\n",
       "       [b'5.8', b'2.7', b'5.1', b'1.9', b'Iris-virginica'],\n",
       "       [b'6.8', b'3.2', b'5.9', b'2.3', b'Iris-virginica'],\n",
       "       [b'6.7', b'3.3', b'5.7', b'2.5', b'Iris-virginica'],\n",
       "       [b'6.7', b'3.0', b'5.2', b'2.3', b'Iris-virginica'],\n",
       "       [b'6.3', b'2.5', b'5.0', b'1.9', b'Iris-virginica'],\n",
       "       [b'6.5', b'3.0', b'5.2', b'2.0', b'Iris-virginica'],\n",
       "       [b'6.2', b'3.4', b'5.4', b'2.3', b'Iris-virginica'],\n",
       "       [b'5.9', b'3.0', b'5.1', b'1.8', b'Iris-virginica']], dtype=object)"
      ]
     },
     "execution_count": 3,
     "metadata": {},
     "output_type": "execute_result"
    }
   ],
   "source": [
    "import numpy as np\n",
    "url='/home/dsc2/Documents/dataMiningDatabases/iris/iris.data'\n",
    "iris=np.genfromtxt(url,delimiter=',',dtype='object')\n",
    "iris"
   ]
  },
  {
   "cell_type": "markdown",
   "metadata": {},
   "source": [
    "### q22"
   ]
  },
  {
   "cell_type": "code",
   "execution_count": 4,
   "metadata": {},
   "outputs": [
    {
     "name": "stdout",
     "output_type": "stream",
     "text": [
      "['Iris-setosa' 'Iris-setosa' 'Iris-setosa' 'Iris-setosa' 'Iris-setosa'\n",
      " 'Iris-setosa' 'Iris-setosa' 'Iris-setosa' 'Iris-setosa' 'Iris-setosa'\n",
      " 'Iris-setosa' 'Iris-setosa' 'Iris-setosa' 'Iris-setosa' 'Iris-setosa'\n",
      " 'Iris-setosa' 'Iris-setosa' 'Iris-setosa' 'Iris-setosa' 'Iris-setosa'\n",
      " 'Iris-setosa' 'Iris-setosa' 'Iris-setosa' 'Iris-setosa' 'Iris-setosa'\n",
      " 'Iris-setosa' 'Iris-setosa' 'Iris-setosa' 'Iris-setosa' 'Iris-setosa'\n",
      " 'Iris-setosa' 'Iris-setosa' 'Iris-setosa' 'Iris-setosa' 'Iris-setosa'\n",
      " 'Iris-setosa' 'Iris-setosa' 'Iris-setosa' 'Iris-setosa' 'Iris-setosa'\n",
      " 'Iris-setosa' 'Iris-setosa' 'Iris-setosa' 'Iris-setosa' 'Iris-setosa'\n",
      " 'Iris-setosa' 'Iris-setosa' 'Iris-setosa' 'Iris-setosa' 'Iris-setosa'\n",
      " 'Iris-versicolor' 'Iris-versicolor' 'Iris-versicolor' 'Iris-versicolor'\n",
      " 'Iris-versicolor' 'Iris-versicolor' 'Iris-versicolor' 'Iris-versicolor'\n",
      " 'Iris-versicolor' 'Iris-versicolor' 'Iris-versicolor' 'Iris-versicolor'\n",
      " 'Iris-versicolor' 'Iris-versicolor' 'Iris-versicolor' 'Iris-versicolor'\n",
      " 'Iris-versicolor' 'Iris-versicolor' 'Iris-versicolor' 'Iris-versicolor'\n",
      " 'Iris-versicolor' 'Iris-versicolor' 'Iris-versicolor' 'Iris-versicolor'\n",
      " 'Iris-versicolor' 'Iris-versicolor' 'Iris-versicolor' 'Iris-versicolor'\n",
      " 'Iris-versicolor' 'Iris-versicolor' 'Iris-versicolor' 'Iris-versicolor'\n",
      " 'Iris-versicolor' 'Iris-versicolor' 'Iris-versicolor' 'Iris-versicolor'\n",
      " 'Iris-versicolor' 'Iris-versicolor' 'Iris-versicolor' 'Iris-versicolor'\n",
      " 'Iris-versicolor' 'Iris-versicolor' 'Iris-versicolor' 'Iris-versicolor'\n",
      " 'Iris-versicolor' 'Iris-versicolor' 'Iris-versicolor' 'Iris-versicolor'\n",
      " 'Iris-versicolor' 'Iris-versicolor' 'Iris-virginica' 'Iris-virginica'\n",
      " 'Iris-virginica' 'Iris-virginica' 'Iris-virginica' 'Iris-virginica'\n",
      " 'Iris-virginica' 'Iris-virginica' 'Iris-virginica' 'Iris-virginica'\n",
      " 'Iris-virginica' 'Iris-virginica' 'Iris-virginica' 'Iris-virginica'\n",
      " 'Iris-virginica' 'Iris-virginica' 'Iris-virginica' 'Iris-virginica'\n",
      " 'Iris-virginica' 'Iris-virginica' 'Iris-virginica' 'Iris-virginica'\n",
      " 'Iris-virginica' 'Iris-virginica' 'Iris-virginica' 'Iris-virginica'\n",
      " 'Iris-virginica' 'Iris-virginica' 'Iris-virginica' 'Iris-virginica'\n",
      " 'Iris-virginica' 'Iris-virginica' 'Iris-virginica' 'Iris-virginica'\n",
      " 'Iris-virginica' 'Iris-virginica' 'Iris-virginica' 'Iris-virginica'\n",
      " 'Iris-virginica' 'Iris-virginica' 'Iris-virginica' 'Iris-virginica'\n",
      " 'Iris-virginica' 'Iris-virginica' 'Iris-virginica' 'Iris-virginica'\n",
      " 'Iris-virginica' 'Iris-virginica' 'Iris-virginica' 'Iris-virginica']\n"
     ]
    }
   ],
   "source": [
    "species = iris[:,4].astype('str')\n",
    "print(species)"
   ]
  },
  {
   "cell_type": "markdown",
   "metadata": {},
   "source": [
    "### q23"
   ]
  },
  {
   "cell_type": "code",
   "execution_count": 5,
   "metadata": {},
   "outputs": [
    {
     "name": "stdout",
     "output_type": "stream",
     "text": [
      "[[5.1 3.5 1.4 0.2 4.9 3.  1.4 0.2 4.7 3.2 1.3 0.2 4.6 3.1 1.5 0.2 5.  3.6\n",
      "  1.4 0.2 5.4 3.9 1.7 0.4 4.6 3.4 1.4 0.3 5.  3.4 1.5 0.2 4.4 2.9 1.4 0.2\n",
      "  4.9 3.1 1.5 0.1 5.4 3.7 1.5 0.2 4.8 3.4 1.6 0.2 4.8 3.  1.4 0.1 4.3 3.\n",
      "  1.1 0.1 5.8 4.  1.2 0.2 5.7 4.4 1.5 0.4 5.4 3.9 1.3 0.4 5.1 3.5 1.4 0.3\n",
      "  5.7 3.8 1.7 0.3 5.1 3.8 1.5 0.3 5.4 3.4 1.7 0.2 5.1 3.7 1.5 0.4 4.6 3.6\n",
      "  1.  0.2 5.1 3.3 1.7 0.5 4.8 3.4 1.9 0.2 5.  3.  1.6 0.2 5.  3.4 1.6 0.4\n",
      "  5.2 3.5 1.5 0.2 5.2 3.4 1.4 0.2 4.7 3.2 1.6 0.2 4.8 3.1 1.6 0.2 5.4 3.4\n",
      "  1.5 0.4 5.2 4.1 1.5 0.1 5.5 4.2 1.4 0.2 4.9 3.1 1.5 0.1 5.  3.2 1.2 0.2\n",
      "  5.5 3.5 1.3 0.2 4.9 3.1]\n",
      " [1.5 0.1 4.4 3.  1.3 0.2 5.1 3.4 1.5 0.2 5.  3.5 1.3 0.3 4.5 2.3 1.3 0.3\n",
      "  4.4 3.2 1.3 0.2 5.  3.5 1.6 0.6 5.1 3.8 1.9 0.4 4.8 3.  1.4 0.3 5.1 3.8\n",
      "  1.6 0.2 4.6 3.2 1.4 0.2 5.3 3.7 1.5 0.2 5.  3.3 1.4 0.2 7.  3.2 4.7 1.4\n",
      "  6.4 3.2 4.5 1.5 6.9 3.1 4.9 1.5 5.5 2.3 4.  1.3 6.5 2.8 4.6 1.5 5.7 2.8\n",
      "  4.5 1.3 6.3 3.3 4.7 1.6 4.9 2.4 3.3 1.  6.6 2.9 4.6 1.3 5.2 2.7 3.9 1.4\n",
      "  5.  2.  3.5 1.  5.9 3.  4.2 1.5 6.  2.2 4.  1.  6.1 2.9 4.7 1.4 5.6 2.9\n",
      "  3.6 1.3 6.7 3.1 4.4 1.4 5.6 3.  4.5 1.5 5.8 2.7 4.1 1.  6.2 2.2 4.5 1.5\n",
      "  5.6 2.5 3.9 1.1 5.9 3.2 4.8 1.8 6.1 2.8 4.  1.3 6.3 2.5 4.9 1.5 6.1 2.8\n",
      "  4.7 1.2 6.4 2.9 4.3 1.3]\n",
      " [6.6 3.  4.4 1.4 6.8 2.8 4.8 1.4 6.7 3.  5.  1.7 6.  2.9 4.5 1.5 5.7 2.6\n",
      "  3.5 1.  5.5 2.4 3.8 1.1 5.5 2.4 3.7 1.  5.8 2.7 3.9 1.2 6.  2.7 5.1 1.6\n",
      "  5.4 3.  4.5 1.5 6.  3.4 4.5 1.6 6.7 3.1 4.7 1.5 6.3 2.3 4.4 1.3 5.6 3.\n",
      "  4.1 1.3 5.5 2.5 4.  1.3 5.5 2.6 4.4 1.2 6.1 3.  4.6 1.4 5.8 2.6 4.  1.2\n",
      "  5.  2.3 3.3 1.  5.6 2.7 4.2 1.3 5.7 3.  4.2 1.2 5.7 2.9 4.2 1.3 6.2 2.9\n",
      "  4.3 1.3 5.1 2.5 3.  1.1 5.7 2.8 4.1 1.3 6.3 3.3 6.  2.5 5.8 2.7 5.1 1.9\n",
      "  7.1 3.  5.9 2.1 6.3 2.9 5.6 1.8 6.5 3.  5.8 2.2 7.6 3.  6.6 2.1 4.9 2.5\n",
      "  4.5 1.7 7.3 2.9 6.3 1.8 6.7 2.5 5.8 1.8 7.2 3.6 6.1 2.5 6.5 3.2 5.1 2.\n",
      "  6.4 2.7 5.3 1.9 6.8 3. ]\n",
      " [5.5 2.1 5.7 2.5 5.  2.  5.8 2.8 5.1 2.4 6.4 3.2 5.3 2.3 6.5 3.  5.5 1.8\n",
      "  7.7 3.8 6.7 2.2 7.7 2.6 6.9 2.3 6.  2.2 5.  1.5 6.9 3.2 5.7 2.3 5.6 2.8\n",
      "  4.9 2.  7.7 2.8 6.7 2.  6.3 2.7 4.9 1.8 6.7 3.3 5.7 2.1 7.2 3.2 6.  1.8\n",
      "  6.2 2.8 4.8 1.8 6.1 3.  4.9 1.8 6.4 2.8 5.6 2.1 7.2 3.  5.8 1.6 7.4 2.8\n",
      "  6.1 1.9 7.9 3.8 6.4 2.  6.4 2.8 5.6 2.2 6.3 2.8 5.1 1.5 6.1 2.6 5.6 1.4\n",
      "  7.7 3.  6.1 2.3 6.3 3.4 5.6 2.4 6.4 3.1 5.5 1.8 6.  3.  4.8 1.8 6.9 3.1\n",
      "  5.4 2.1 6.7 3.1 5.6 2.4 6.9 3.1 5.1 2.3 5.8 2.7 5.1 1.9 6.8 3.2 5.9 2.3\n",
      "  6.7 3.3 5.7 2.5 6.7 3.  5.2 2.3 6.3 2.5 5.  1.9 6.5 3.  5.2 2.  6.2 3.4\n",
      "  5.4 2.3 5.9 3.  5.1 1.8]]\n"
     ]
    }
   ],
   "source": [
    "iris_2d = iris[:,0:4].reshape((4,-1))\n",
    "iris_2d = iris_2d.astype('float')\n",
    "print(iris_2d)"
   ]
  },
  {
   "cell_type": "markdown",
   "metadata": {},
   "source": [
    "### q24"
   ]
  },
  {
   "cell_type": "code",
   "execution_count": 6,
   "metadata": {},
   "outputs": [
    {
     "name": "stdout",
     "output_type": "stream",
     "text": [
      "Mean 5.843333333333334\n",
      "Mdeian 5.8\n",
      "Standar Deviation 0.8253012917851409\n"
     ]
    }
   ],
   "source": [
    "col1=iris[:,0].astype('float')\n",
    "print('Mean', np.mean(col1, axis=0))\n",
    "print('Mdeian', np.median(col1, axis=0))\n",
    "print('Standar Deviation', np.std(col1, axis=0))"
   ]
  },
  {
   "cell_type": "markdown",
   "metadata": {},
   "source": [
    "### q25"
   ]
  },
  {
   "cell_type": "code",
   "execution_count": 7,
   "metadata": {},
   "outputs": [
    {
     "name": "stdout",
     "output_type": "stream",
     "text": [
      "[5.1 4.9 4.7 4.6 5.  5.4 4.6 5.  4.4 4.9 5.4 4.8 4.8 4.3 5.8 5.7 5.4 5.1\n",
      " 5.7 5.1 5.4 5.1 4.6 5.1 4.8 5.  5.  5.2 5.2 4.7 4.8 5.4 5.2 5.5 4.9 5.\n",
      " 5.5 4.9 4.4 5.1 5.  4.5 4.4 5.  5.1 4.8 5.1 4.6 5.3 5.  7.  6.4 6.9 5.5\n",
      " 6.5 5.7 6.3 4.9 6.6 5.2 5.  5.9 6.  6.1 5.6 6.7 5.6 5.8 6.2 5.6 5.9 6.1\n",
      " 6.3 6.1 6.4 6.6 6.8 6.7 6.  5.7 5.5 5.5 5.8 6.  5.4 6.  6.7 6.3 5.6 5.5\n",
      " 5.5 6.1 5.8 5.  5.6 5.7 5.7 6.2 5.1 5.7 6.3 5.8 7.1 6.3 6.5 7.6 4.9 7.3\n",
      " 6.7 7.2 6.5 6.4 6.8 5.7 5.8 6.4 6.5 7.7 7.7 6.  6.9 5.6 7.7 6.3 6.7 7.2\n",
      " 6.2 6.1 6.4 7.2 7.4 7.9 6.4 6.3 6.1 7.7 6.3 6.4 6.  6.9 6.7 6.9 5.8 6.8\n",
      " 6.7 6.7 6.3 6.5 6.2 5.9]\n",
      "[0.222 0.167 0.111 0.083 0.194 0.306 0.083 0.194 0.028 0.167 0.306 0.139\n",
      " 0.139 0.    0.417 0.389 0.306 0.222 0.389 0.222 0.306 0.222 0.083 0.222\n",
      " 0.139 0.194 0.194 0.25  0.25  0.111 0.139 0.306 0.25  0.333 0.167 0.194\n",
      " 0.333 0.167 0.028 0.222 0.194 0.056 0.028 0.194 0.222 0.139 0.222 0.083\n",
      " 0.278 0.194 0.75  0.583 0.722 0.333 0.611 0.389 0.556 0.167 0.639 0.25\n",
      " 0.194 0.444 0.472 0.5   0.361 0.667 0.361 0.417 0.528 0.361 0.444 0.5\n",
      " 0.556 0.5   0.583 0.639 0.694 0.667 0.472 0.389 0.333 0.333 0.417 0.472\n",
      " 0.306 0.472 0.667 0.556 0.361 0.333 0.333 0.5   0.417 0.194 0.361 0.389\n",
      " 0.389 0.528 0.222 0.389 0.556 0.417 0.778 0.556 0.611 0.917 0.167 0.833\n",
      " 0.667 0.806 0.611 0.583 0.694 0.389 0.417 0.583 0.611 0.944 0.944 0.472\n",
      " 0.722 0.361 0.944 0.556 0.667 0.806 0.528 0.5   0.583 0.806 0.861 1.\n",
      " 0.583 0.556 0.5   0.944 0.556 0.583 0.472 0.722 0.667 0.722 0.417 0.694\n",
      " 0.667 0.667 0.556 0.611 0.528 0.444]\n"
     ]
    }
   ],
   "source": [
    "min1 = min(col1)\n",
    "max1 = max(col1)\n",
    "print(col1)\n",
    "col1_norm = (col1 - min1) / (max1 - min1)\n",
    "print(np.round(col1_norm, 3))"
   ]
  },
  {
   "cell_type": "markdown",
   "metadata": {},
   "source": [
    "### q27"
   ]
  },
  {
   "cell_type": "code",
   "execution_count": 8,
   "metadata": {},
   "outputs": [
    {
     "data": {
      "text/plain": [
       "4.4"
      ]
     },
     "execution_count": 8,
     "metadata": {},
     "output_type": "execute_result"
    }
   ],
   "source": [
    "np.percentile(col1,5)\n",
    "np.percentile(col1,1)"
   ]
  },
  {
   "cell_type": "code",
   "execution_count": 9,
   "metadata": {},
   "outputs": [
    {
     "name": "stdout",
     "output_type": "stream",
     "text": [
      "Species ['Iris-setosa' 'Iris-versicolor' 'Iris-virginica']\n",
      "Species Count: 3\n"
     ]
    }
   ],
   "source": [
    "print('Species', np.unique(species))\n",
    "print('Species Count:', len(np.unique(species)))"
   ]
  },
  {
   "cell_type": "markdown",
   "metadata": {},
   "source": [
    "### q28\n"
   ]
  },
  {
   "cell_type": "code",
   "execution_count": 10,
   "metadata": {
    "scrolled": true
   },
   "outputs": [
    {
     "name": "stdout",
     "output_type": "stream",
     "text": [
      "[[5.1 3.5 nan 0.2 4.9 nan 1.4 nan 4.7 3.2 1.3 0.2 nan 3.1 1.5 0.2 nan nan\n",
      "  1.4 nan 5.4 3.9 1.7 0.4 4.6 3.4 1.4 0.3 nan 3.4 1.5 0.2 4.4 2.9 1.4 0.2\n",
      "  4.9 3.1 nan 0.1 5.4 3.7 1.5 0.2 4.8 nan 1.6 0.2 4.8 3.  1.4 0.1 4.3 3.\n",
      "  1.1 0.1 5.8 4.  1.2 0.2 5.7 4.4 1.5 nan 5.4 nan 1.3 0.4 nan 3.5 1.4 0.3\n",
      "  5.7 3.8 1.7 0.3 5.1 3.8 1.5 0.3 5.4 3.4 1.7 0.2 5.1 3.7 1.5 0.4 4.6 3.6\n",
      "  1.  0.2 5.1 nan 1.7 0.5 4.8 3.4 1.9 0.2 5.  3.  1.6 0.2 5.  3.4 1.6 0.4\n",
      "  5.2 3.5 1.5 0.2 5.2 3.4 1.4 0.2 4.7 3.2 1.6 0.2 4.8 nan 1.6 0.2 nan 3.4\n",
      "  1.5 0.4 5.2 4.1 1.5 0.1 nan 4.2 nan 0.2 4.9 3.1 nan 0.1 5.  3.2 1.2 nan\n",
      "  5.5 3.5 1.3 0.2 4.9 3.1]\n",
      " [1.5 0.1 4.4 3.  1.3 0.2 5.1 3.4 1.5 0.2 5.  3.5 1.3 0.3 4.5 2.3 1.3 0.3\n",
      "  4.4 3.2 1.3 0.2 5.  3.5 1.6 0.6 5.1 3.8 1.9 0.4 4.8 3.  1.4 0.3 5.1 3.8\n",
      "  1.6 0.2 4.6 3.2 1.4 0.2 5.3 3.7 1.5 0.2 5.  3.3 1.4 0.2 7.  3.2 4.7 1.4\n",
      "  6.4 3.2 4.5 1.5 6.9 3.1 4.9 1.5 5.5 2.3 4.  1.3 6.5 2.8 4.6 1.5 5.7 2.8\n",
      "  4.5 1.3 6.3 3.3 4.7 1.6 4.9 2.4 3.3 1.  6.6 2.9 4.6 1.3 5.2 2.7 3.9 1.4\n",
      "  5.  2.  3.5 1.  5.9 3.  4.2 1.5 6.  2.2 4.  1.  6.1 2.9 4.7 1.4 5.6 2.9\n",
      "  3.6 1.3 6.7 3.1 4.4 1.4 5.6 3.  4.5 1.5 5.8 2.7 4.1 1.  6.2 2.2 4.5 1.5\n",
      "  5.6 2.5 3.9 1.1 5.9 3.2 4.8 1.8 6.1 2.8 4.  1.3 6.3 2.5 4.9 1.5 6.1 2.8\n",
      "  4.7 1.2 6.4 2.9 4.3 1.3]\n",
      " [6.6 3.  4.4 1.4 6.8 2.8 4.8 1.4 6.7 3.  5.  1.7 6.  2.9 4.5 1.5 5.7 2.6\n",
      "  3.5 1.  5.5 2.4 3.8 1.1 5.5 2.4 3.7 1.  5.8 2.7 3.9 1.2 6.  2.7 5.1 1.6\n",
      "  5.4 3.  4.5 1.5 6.  3.4 4.5 1.6 6.7 3.1 4.7 1.5 6.3 2.3 4.4 1.3 5.6 3.\n",
      "  4.1 1.3 5.5 2.5 4.  1.3 5.5 2.6 4.4 1.2 6.1 3.  4.6 1.4 5.8 2.6 4.  1.2\n",
      "  5.  2.3 3.3 1.  5.6 2.7 4.2 1.3 5.7 3.  4.2 1.2 5.7 2.9 4.2 1.3 6.2 2.9\n",
      "  4.3 1.3 5.1 2.5 3.  1.1 5.7 2.8 4.1 1.3 6.3 3.3 6.  2.5 5.8 2.7 5.1 1.9\n",
      "  7.1 3.  5.9 2.1 6.3 2.9 5.6 1.8 6.5 3.  5.8 2.2 7.6 3.  6.6 2.1 4.9 2.5\n",
      "  4.5 1.7 7.3 2.9 6.3 1.8 6.7 2.5 5.8 1.8 7.2 3.6 6.1 2.5 6.5 3.2 5.1 2.\n",
      "  6.4 2.7 5.3 1.9 6.8 3. ]\n",
      " [5.5 2.1 5.7 2.5 5.  2.  5.8 2.8 5.1 2.4 6.4 3.2 5.3 2.3 6.5 3.  5.5 1.8\n",
      "  7.7 3.8 6.7 2.2 7.7 2.6 6.9 2.3 6.  2.2 5.  1.5 6.9 3.2 5.7 2.3 5.6 2.8\n",
      "  4.9 2.  7.7 2.8 6.7 2.  6.3 2.7 4.9 1.8 6.7 3.3 5.7 2.1 7.2 3.2 6.  1.8\n",
      "  6.2 2.8 4.8 1.8 6.1 3.  4.9 1.8 6.4 2.8 5.6 2.1 7.2 3.  5.8 1.6 7.4 2.8\n",
      "  6.1 1.9 7.9 3.8 6.4 2.  6.4 2.8 5.6 2.2 6.3 2.8 5.1 1.5 6.1 2.6 5.6 1.4\n",
      "  7.7 3.  6.1 2.3 6.3 3.4 5.6 2.4 6.4 3.1 5.5 1.8 6.  3.  4.8 1.8 6.9 3.1\n",
      "  5.4 2.1 6.7 3.1 5.6 2.4 6.9 3.1 5.1 2.3 5.8 2.7 5.1 1.9 6.8 3.2 5.9 2.3\n",
      "  6.7 3.3 5.7 2.5 6.7 3.  5.2 2.3 6.3 2.5 5.  1.9 6.5 3.  5.2 2.  6.2 3.4\n",
      "  5.4 2.3 5.9 3.  5.1 1.8]]\n"
     ]
    }
   ],
   "source": [
    "import random\n",
    "index_options = [ x for x in range(0,len(col1))]\n",
    "for index in random.sample(index_options, 20):\n",
    "    iris_2d[0][index] = np.NaN\n",
    "print(iris_2d)"
   ]
  },
  {
   "cell_type": "markdown",
   "metadata": {},
   "source": [
    "### q29\n"
   ]
  },
  {
   "cell_type": "code",
   "execution_count": 11,
   "metadata": {},
   "outputs": [
    {
     "name": "stdout",
     "output_type": "stream",
     "text": [
      "[2, 5, 7, 12, 16, 17, 19, 28, 38, 45, 63, 65, 68, 93, 121, 124, 132, 134, 138, 143] 20\n"
     ]
    }
   ],
   "source": [
    "nan_indexes = []\n",
    "for index, isnanresult in enumerate(np.isnan(iris_2d[0])):\n",
    "    if isnanresult:\n",
    "        nan_indexes.append(index)\n",
    "print(nan_indexes, len(nan_indexes))"
   ]
  },
  {
   "cell_type": "markdown",
   "metadata": {},
   "source": [
    "### q30"
   ]
  },
  {
   "cell_type": "code",
   "execution_count": 12,
   "metadata": {},
   "outputs": [
    {
     "name": "stdout",
     "output_type": "stream",
     "text": [
      "[[3.5 4.9 1.4 4.7 3.2 1.3 0.2 3.1 1.5 1.4 3.9 1.7 4.6 3.4 1.4 3.4 1.5 4.4\n",
      "  2.9 1.4 0.2 4.9 3.1 3.7 1.5 0.2 4.8 1.6 4.8 3.  1.4 4.3 3.  1.1 4.  1.2\n",
      "  4.4 1.5 1.3 3.5 1.4 3.8 1.7 3.8 1.5 3.4 1.7 3.7 1.5 4.6 3.6 1.  1.7 4.8\n",
      "  3.4 1.9 3.  1.6 0.2 3.4 1.6 0.4 3.5 1.5 0.2 3.4 1.4 0.2 4.7 3.2 1.6 0.2\n",
      "  4.8 1.6 0.2 3.4 1.5 0.4 4.1 1.5 0.1 4.2 0.2 4.9 3.1 0.1 3.2 1.2 3.5 1.3\n",
      "  0.2 4.9 3.1]\n",
      " [0.1 1.3 5.1 1.5 0.2 5.  3.5 0.3 4.5 4.4 0.2 5.  1.6 0.6 5.1 0.4 4.8 1.4\n",
      "  0.3 5.1 3.8 1.6 0.2 0.2 5.3 3.7 1.5 5.  1.4 0.2 7.  4.7 1.4 6.4 1.5 6.9\n",
      "  1.5 5.5 6.5 1.5 5.7 1.3 6.3 1.6 4.9 1.  6.6 1.3 5.2 3.9 1.4 5.  5.9 4.2\n",
      "  1.5 6.  1.  6.1 2.9 1.4 5.6 2.9 1.3 6.7 3.1 1.4 5.6 3.  4.5 1.5 5.8 2.7\n",
      "  4.1 6.2 2.2 1.5 5.6 2.5 1.1 5.9 3.2 1.8 2.8 4.  1.3 2.5 1.5 6.1 1.2 6.4\n",
      "  2.9 4.3 1.3]\n",
      " [3.  6.8 4.8 6.7 3.  5.  1.7 2.9 4.5 3.5 2.4 3.8 5.5 2.4 3.7 2.7 3.9 6.\n",
      "  2.7 5.1 1.6 5.4 3.  3.4 4.5 1.6 6.7 4.7 6.3 2.3 4.4 5.6 3.  4.1 2.5 4.\n",
      "  2.6 4.4 4.6 2.6 4.  2.3 3.3 2.7 4.2 3.  4.2 2.9 4.2 6.2 2.9 4.3 3.  5.7\n",
      "  2.8 4.1 3.3 6.  2.5 2.7 5.1 1.9 3.  5.9 2.1 2.9 5.6 1.8 6.5 3.  5.8 2.2\n",
      "  7.6 6.6 2.1 2.5 4.5 1.7 2.9 6.3 1.8 2.5 1.8 7.2 3.6 2.5 3.2 5.1 2.7 5.3\n",
      "  1.9 6.8 3. ]\n",
      " [2.1 5.  5.8 5.1 2.4 6.4 3.2 2.3 6.5 7.7 2.2 7.7 6.9 2.3 6.  1.5 6.9 5.7\n",
      "  2.3 5.6 2.8 4.9 2.  2.  6.3 2.7 4.9 6.7 5.7 2.1 7.2 6.  1.8 6.2 1.8 6.1\n",
      "  1.8 6.4 7.2 1.6 7.4 1.9 7.9 2.  6.4 2.2 6.3 1.5 6.1 5.6 1.4 7.7 6.3 5.6\n",
      "  2.4 6.4 1.8 6.  3.  1.8 6.9 3.1 2.1 6.7 3.1 2.4 6.9 3.1 5.1 2.3 5.8 2.7\n",
      "  5.1 6.8 3.2 2.3 6.7 3.3 2.5 6.7 3.  2.3 2.5 5.  1.9 3.  2.  6.2 2.3 5.9\n",
      "  3.  5.1 1.8]]\n",
      "(4, 93)\n"
     ]
    },
    {
     "name": "stderr",
     "output_type": "stream",
     "text": [
      "/home/dsc2/anaconda3/lib/python3.7/site-packages/ipykernel_launcher.py:1: RuntimeWarning: invalid value encountered in less\n",
      "  \"\"\"Entry point for launching an IPython kernel.\n"
     ]
    }
   ],
   "source": [
    "mask = np.where((iris_2d[0,:] < 5) & (iris_2d[2,:] > 1.5),True,False)\n",
    "print(iris_2d[:, mask])\n",
    "print(np.shape(iris_2d[:, mask]))"
   ]
  },
  {
   "cell_type": "markdown",
   "metadata": {},
   "source": [
    "### q31"
   ]
  },
  {
   "cell_type": "code",
   "execution_count": 18,
   "metadata": {},
   "outputs": [
    {
     "name": "stdout",
     "output_type": "stream",
     "text": [
      "[ True  True False  True  True False  True False  True  True  True  True\n",
      " False  True  True  True False False  True False  True  True  True  True\n",
      "  True  True  True  True False  True  True  True  True  True  True  True\n",
      "  True  True False  True  True  True  True  True  True False  True  True\n",
      "  True  True  True  True  True  True  True  True  True  True  True  True\n",
      "  True  True  True False  True False  True  True False  True  True  True\n",
      "  True  True  True  True  True  True  True  True  True  True  True  True\n",
      "  True  True  True  True  True  True  True  True  True False  True  True\n",
      "  True  True  True  True  True  True  True  True  True  True  True  True\n",
      "  True  True  True  True  True  True  True  True  True  True  True  True\n",
      "  True False  True  True False  True  True  True  True  True  True  True\n",
      " False  True False  True  True  True False  True  True  True  True False\n",
      "  True  True  True  True  True  True]\n",
      "[[5.1 3.5 0.2 4.9 1.4 4.7 3.2 1.3 0.2 3.1 1.5 0.2 1.4 5.4 3.9 1.7 0.4 4.6\n",
      "  3.4 1.4 0.3 3.4 1.5 0.2 4.4 2.9 1.4 0.2 4.9 3.1 0.1 5.4 3.7 1.5 0.2 4.8\n",
      "  1.6 0.2 4.8 3.  1.4 0.1 4.3 3.  1.1 0.1 5.8 4.  1.2 0.2 5.7 4.4 1.5 5.4\n",
      "  1.3 0.4 3.5 1.4 0.3 5.7 3.8 1.7 0.3 5.1 3.8 1.5 0.3 5.4 3.4 1.7 0.2 5.1\n",
      "  3.7 1.5 0.4 4.6 3.6 1.  0.2 5.1 1.7 0.5 4.8 3.4 1.9 0.2 5.  3.  1.6 0.2\n",
      "  5.  3.4 1.6 0.4 5.2 3.5 1.5 0.2 5.2 3.4 1.4 0.2 4.7 3.2 1.6 0.2 4.8 1.6\n",
      "  0.2 3.4 1.5 0.4 5.2 4.1 1.5 0.1 4.2 0.2 4.9 3.1 0.1 5.  3.2 1.2 5.5 3.5\n",
      "  1.3 0.2 4.9 3.1]\n",
      " [1.5 0.1 3.  1.3 5.1 1.5 0.2 5.  3.5 0.3 4.5 2.3 4.4 1.3 0.2 5.  3.5 1.6\n",
      "  0.6 5.1 3.8 0.4 4.8 3.  1.4 0.3 5.1 3.8 1.6 0.2 3.2 1.4 0.2 5.3 3.7 1.5\n",
      "  5.  3.3 1.4 0.2 7.  3.2 4.7 1.4 6.4 3.2 4.5 1.5 6.9 3.1 4.9 1.5 5.5 4.\n",
      "  6.5 2.8 1.5 5.7 2.8 4.5 1.3 6.3 3.3 4.7 1.6 4.9 2.4 3.3 1.  6.6 2.9 4.6\n",
      "  1.3 5.2 2.7 3.9 1.4 5.  2.  3.5 5.9 3.  4.2 1.5 6.  2.2 4.  1.  6.1 2.9\n",
      "  4.7 1.4 5.6 2.9 3.6 1.3 6.7 3.1 4.4 1.4 5.6 3.  4.5 1.5 5.8 2.7 4.1 6.2\n",
      "  2.2 1.5 5.6 2.5 3.9 1.1 5.9 3.2 1.8 2.8 4.  1.3 2.5 4.9 1.5 6.1 4.7 1.2\n",
      "  6.4 2.9 4.3 1.3]\n",
      " [6.6 3.  1.4 6.8 4.8 6.7 3.  5.  1.7 2.9 4.5 1.5 3.5 5.5 2.4 3.8 1.1 5.5\n",
      "  2.4 3.7 1.  2.7 3.9 1.2 6.  2.7 5.1 1.6 5.4 3.  1.5 6.  3.4 4.5 1.6 6.7\n",
      "  4.7 1.5 6.3 2.3 4.4 1.3 5.6 3.  4.1 1.3 5.5 2.5 4.  1.3 5.5 2.6 4.4 6.1\n",
      "  4.6 1.4 2.6 4.  1.2 5.  2.3 3.3 1.  5.6 2.7 4.2 1.3 5.7 3.  4.2 1.2 5.7\n",
      "  2.9 4.2 1.3 6.2 2.9 4.3 1.3 5.1 3.  1.1 5.7 2.8 4.1 1.3 6.3 3.3 6.  2.5\n",
      "  5.8 2.7 5.1 1.9 7.1 3.  5.9 2.1 6.3 2.9 5.6 1.8 6.5 3.  5.8 2.2 7.6 6.6\n",
      "  2.1 2.5 4.5 1.7 7.3 2.9 6.3 1.8 2.5 1.8 7.2 3.6 2.5 6.5 3.2 5.1 6.4 2.7\n",
      "  5.3 1.9 6.8 3. ]\n",
      " [5.5 2.1 2.5 5.  5.8 5.1 2.4 6.4 3.2 2.3 6.5 3.  7.7 6.7 2.2 7.7 2.6 6.9\n",
      "  2.3 6.  2.2 1.5 6.9 3.2 5.7 2.3 5.6 2.8 4.9 2.  2.8 6.7 2.  6.3 2.7 4.9\n",
      "  6.7 3.3 5.7 2.1 7.2 3.2 6.  1.8 6.2 2.8 4.8 1.8 6.1 3.  4.9 1.8 6.4 5.6\n",
      "  7.2 3.  1.6 7.4 2.8 6.1 1.9 7.9 3.8 6.4 2.  6.4 2.8 5.6 2.2 6.3 2.8 5.1\n",
      "  1.5 6.1 2.6 5.6 1.4 7.7 3.  6.1 6.3 3.4 5.6 2.4 6.4 3.1 5.5 1.8 6.  3.\n",
      "  4.8 1.8 6.9 3.1 5.4 2.1 6.7 3.1 5.6 2.4 6.9 3.1 5.1 2.3 5.8 2.7 5.1 6.8\n",
      "  3.2 2.3 6.7 3.3 5.7 2.5 6.7 3.  2.3 2.5 5.  1.9 3.  5.2 2.  6.2 5.4 2.3\n",
      "  5.9 3.  5.1 1.8]]\n"
     ]
    }
   ],
   "source": [
    "mask = np.isnan(iris_2d[0,:])\n",
    "for arr in iris_2d[1:,:]:\n",
    "    mask |= np.isnan(arr)\n",
    "mask = np.where(mask, False, True)\n",
    "print(mask)\n",
    "print(iris_2d[:, mask])\n"
   ]
  },
  {
   "cell_type": "markdown",
   "metadata": {},
   "source": [
    "### q32"
   ]
  },
  {
   "cell_type": "code",
   "execution_count": 47,
   "metadata": {},
   "outputs": [
    {
     "data": {
      "text/plain": [
       "array([3484.25])"
      ]
     },
     "execution_count": 47,
     "metadata": {},
     "output_type": "execute_result"
    }
   ],
   "source": [
    "col1 = iris[:,0:1].reshape(1, -1).astype(np.float64)\n",
    "col3 = iris[:,2:3].reshape(1, -1).astype(np.float64)\n",
    "col1\n",
    "np.correlate(col1[0], col3[0])"
   ]
  },
  {
   "cell_type": "markdown",
   "metadata": {},
   "source": [
    "### q33"
   ]
  },
  {
   "cell_type": "code",
   "execution_count": null,
   "metadata": {},
   "outputs": [],
   "source": []
  },
  {
   "cell_type": "markdown",
   "metadata": {},
   "source": [
    "### q41"
   ]
  },
  {
   "cell_type": "code",
   "execution_count": 14,
   "metadata": {},
   "outputs": [
    {
     "name": "stdout",
     "output_type": "stream",
     "text": [
      "[b'0.2' b'0.2' b'0.2' b'0.2' b'0.2' b'0.4' b'0.3' b'0.2' b'0.2' b'0.1'\n",
      " b'0.2' b'0.2' b'0.1' b'0.1' b'0.2' b'0.4' b'0.4' b'0.3' b'0.3' b'0.3'\n",
      " b'0.2' b'0.4' b'0.2' b'0.5' b'0.2' b'0.2' b'0.4' b'0.2' b'0.2' b'0.2'\n",
      " b'0.2' b'0.4' b'0.1' b'0.2' b'0.1' b'0.2' b'0.2' b'0.1' b'0.2' b'0.2'\n",
      " b'0.3' b'0.3' b'0.2' b'0.6' b'0.4' b'0.3' b'0.2' b'0.2' b'0.2' b'0.2'\n",
      " b'1.4' b'1.5' b'1.5' b'1.3' b'1.5' b'1.3' b'1.6' b'1.0' b'1.3' b'1.4'\n",
      " b'1.0' b'1.5' b'1.0' b'1.4' b'1.3' b'1.4' b'1.5' b'1.0' b'1.5' b'1.1'\n",
      " b'1.8' b'1.3' b'1.5' b'1.2' b'1.3' b'1.4' b'1.4' b'1.7' b'1.5' b'1.0'\n",
      " b'1.1' b'1.0' b'1.2' b'1.6' b'1.5' b'1.6' b'1.5' b'1.3' b'1.3' b'1.3'\n",
      " b'1.2' b'1.4' b'1.2' b'1.0' b'1.3' b'1.2' b'1.3' b'1.3' b'1.1' b'1.3'\n",
      " b'2.5' b'1.9' b'2.1' b'1.8' b'2.2' b'2.1' b'1.7' b'1.8' b'1.8' b'2.5'\n",
      " b'2.0' b'1.9' b'2.1' b'2.0' b'2.4' b'2.3' b'1.8' b'2.2' b'2.3' b'1.5'\n",
      " b'2.3' b'2.0' b'2.0' b'1.8' b'2.1' b'1.8' b'1.8' b'1.8' b'2.1' b'1.6'\n",
      " b'1.9' b'2.0' b'2.2' b'1.5' b'1.4' b'2.3' b'2.4' b'1.8' b'1.8' b'2.1'\n",
      " b'2.4' b'2.3' b'1.9' b'2.3' b'2.5' b'2.3' b'1.9' b'2.0' b'2.3' b'1.8']\n",
      "Most frequent petal length\n"
     ]
    }
   ],
   "source": [
    "col3 = iris[:,3]\n",
    "print(col3)\n",
    "\n",
    "print('Most frequent petal length', )"
   ]
  },
  {
   "cell_type": "code",
   "execution_count": null,
   "metadata": {},
   "outputs": [],
   "source": []
  }
 ],
 "metadata": {
  "kernelspec": {
   "display_name": "Python 3",
   "language": "python",
   "name": "python3"
  },
  "language_info": {
   "codemirror_mode": {
    "name": "ipython",
    "version": 3
   },
   "file_extension": ".py",
   "mimetype": "text/x-python",
   "name": "python",
   "nbconvert_exporter": "python",
   "pygments_lexer": "ipython3",
   "version": "3.6.9"
  }
 },
 "nbformat": 4,
 "nbformat_minor": 2
}
